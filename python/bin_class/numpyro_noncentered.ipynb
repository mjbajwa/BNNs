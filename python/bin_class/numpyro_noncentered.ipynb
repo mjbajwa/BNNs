{
 "cells": [
  {
   "cell_type": "code",
   "execution_count": 1,
   "metadata": {},
   "outputs": [],
   "source": [
    "import os\n",
    "import datetime\n",
    "import matplotlib\n",
    "import matplotlib.pyplot as plt\n",
    "import numpy as np\n",
    "import pandas as pd\n",
    "from jax import vmap\n",
    "import jax.numpy as jnp\n",
    "import jax.random as random\n",
    "import numpyro\n",
    "from numpyro import handlers\n",
    "import numpyro.distributions as dist\n",
    "from numpyro.infer import MCMC, NUTS\n",
    "from tqdm import tqdm_notebook\n",
    "import plotly.graph_objects as go\n",
    "import re\n",
    "from numpyro.infer.initialization import init_to_value\n",
    "\n",
    "numpyro.util.set_rng_seed(0)\n",
    "numpyro.set_platform('cpu')\n",
    "numpyro.set_host_device_count(4)"
   ]
  },
  {
   "cell_type": "code",
   "execution_count": 2,
   "metadata": {},
   "outputs": [],
   "source": [
    "# Create folder for storing results\n",
    "\n",
    "time = datetime.datetime.now().strftime('%Y_%m_%d_%H_%M_%S')\n",
    "new_dir = os.path.join(\"../../output/bin_class/\", \"numpyro_nc_\" + time)\n",
    "os.mkdir(new_dir)"
   ]
  },
  {
   "cell_type": "code",
   "execution_count": 3,
   "metadata": {},
   "outputs": [
    {
     "name": "stdout",
     "output_type": "stream",
     "text": [
      "../../output/bin_class/numpyro_nc_2021_04_29_12_41_38\n"
     ]
    }
   ],
   "source": [
    "print(new_dir)"
   ]
  },
  {
   "cell_type": "code",
   "execution_count": 4,
   "metadata": {},
   "outputs": [],
   "source": [
    "ITER = 50000\n",
    "CHAINS = 4"
   ]
  },
  {
   "cell_type": "code",
   "execution_count": 5,
   "metadata": {},
   "outputs": [],
   "source": [
    "def load_data():\n",
    "\n",
    "    # Load Data\n",
    "\n",
    "    df = pd.read_table(\"../../data/bdata\", header=None, delim_whitespace=True)\n",
    "    df.columns = [\"X1\", \"X2\", \"Y\"]\n",
    "    df[\"index\"] = np.where(df.index < 300, \"Train\", \"Test\")\n",
    "\n",
    "    # Create train and test\n",
    "\n",
    "    X_train = np.array(df.loc[df[\"index\"] == \"Train\", [\"X1\", \"X2\"]]).reshape(-1, 2)\n",
    "    Y_train = np.array(df.loc[df[\"index\"] == \"Train\", \"Y\"])\n",
    "    X_test = np.array(df.loc[df[\"index\"] == \"Test\", [\"X1\", \"X2\"]]).reshape(-1, 2)\n",
    "    Y_test = np.array(df.loc[df[\"index\"] == \"Test\", \"Y\"])\n",
    "\n",
    "    return X_train, X_test, Y_train, Y_test"
   ]
  },
  {
   "cell_type": "code",
   "execution_count": 6,
   "metadata": {},
   "outputs": [],
   "source": [
    "X_train, X_test, Y_train, Y_test = load_data()"
   ]
  },
  {
   "cell_type": "code",
   "execution_count": 7,
   "metadata": {},
   "outputs": [],
   "source": [
    "def model(x, y):\n",
    "    \n",
    "    # Hyperparameters\n",
    "    \n",
    "    w_ih_prec = numpyro.sample(\"w_ih_prec\", dist.Gamma(0.25, 0.000625))\n",
    "    b_h_prec = numpyro.sample(\"b_h_prec\", dist.Gamma(0.25, 0.000625))\n",
    "    w_ho_prec = numpyro.sample(\"w_ho_prec\", dist.Gamma(0.25, 4.166667e-05))\n",
    "    \n",
    "    # Low Level Parameters (non-centered)\n",
    "\n",
    "    w_ih_raw = numpyro.sample(\"w_ih\", dist.Normal(loc=jnp.zeros((2, 15)), scale=1))\n",
    "    b_h_raw = numpyro.sample(\"b_h\", dist.Normal(loc=jnp.zeros((1, 15)), scale=1))\n",
    "    w_ho_raw = numpyro.sample(\"w_ho\", dist.Normal(loc=jnp.zeros((15, 1)), scale=1))\n",
    "    b_o_raw = numpyro.sample(\"b_o\", dist.Normal(loc=jnp.zeros((1, 1)), scale=1))\n",
    "    \n",
    "    # Define intermediate parameters\n",
    "    \n",
    "    w_ih = (1/jnp.sqrt(w_ih_prec)) * w_ih_raw\n",
    "    b_h = (1/jnp.sqrt(b_h_prec)) * b_h_raw\n",
    "    w_ho = (1/jnp.sqrt(w_ho_prec)) * w_ho_raw\n",
    "    b_o = 100*b_o_raw\n",
    "    \n",
    "    # Forward Pass\n",
    "\n",
    "    z1 = jnp.matmul(x, w_ih) + b_h\n",
    "    a1 = jnp.tanh(z1)\n",
    "    output = jnp.matmul(a1, w_ho) + b_o\n",
    "    output = 1/(1 + jnp.exp(-output))\n",
    "    \n",
    "    return numpyro.sample(\"y_pred\", dist.Bernoulli(output), obs=y)\n",
    "    # return numpyro.sample(\"y_pred\", dist.Normal(output, 1/jnp.sqrt(y_prec))) #, obs=jnp.array([]))"
   ]
  },
  {
   "cell_type": "code",
   "execution_count": 8,
   "metadata": {},
   "outputs": [],
   "source": [
    "init_values = {\n",
    "    \n",
    "    \"w_ih_prec\": 1.,\n",
    "    \"b_h_prec\": 1.,\n",
    "    \"w_ho_prec\": 1.,\n",
    "    \"y_prec\": 1.,\n",
    "    \"w_ih\": jnp.zeros((2, 15)),\n",
    "    \"b_h\": jnp.zeros((1, 15)),\n",
    "    \"w_ho\": jnp.zeros((15, 1)),\n",
    "    \"b_o\": jnp.zeros((1, 1))\n",
    "    \n",
    "}"
   ]
  },
  {
   "cell_type": "code",
   "execution_count": 9,
   "metadata": {
    "scrolled": true
   },
   "outputs": [
    {
     "data": {
      "application/vnd.jupyter.widget-view+json": {
       "model_id": "3c1caf2bdafa48f8959075b654b75f9b",
       "version_major": 2,
       "version_minor": 0
      },
      "text/plain": [
       "HBox(children=(IntProgress(value=0, max=51000), HTML(value='')))"
      ]
     },
     "metadata": {},
     "output_type": "display_data"
    },
    {
     "data": {
      "application/vnd.jupyter.widget-view+json": {
       "model_id": "d8aa06e6e4644b53a88ead673f038cf5",
       "version_major": 2,
       "version_minor": 0
      },
      "text/plain": [
       "HBox(children=(IntProgress(value=0, max=51000), HTML(value='')))"
      ]
     },
     "metadata": {},
     "output_type": "display_data"
    },
    {
     "data": {
      "application/vnd.jupyter.widget-view+json": {
       "model_id": "03ff059df54e4fa69639f0d057ec6571",
       "version_major": 2,
       "version_minor": 0
      },
      "text/plain": [
       "HBox(children=(IntProgress(value=0, max=51000), HTML(value='')))"
      ]
     },
     "metadata": {},
     "output_type": "display_data"
    },
    {
     "data": {
      "application/vnd.jupyter.widget-view+json": {
       "model_id": "e9e7e148229144e9bd474c63b5961b21",
       "version_major": 2,
       "version_minor": 0
      },
      "text/plain": [
       "HBox(children=(IntProgress(value=0, max=51000), HTML(value='')))"
      ]
     },
     "metadata": {},
     "output_type": "display_data"
    },
    {
     "name": "stdout",
     "output_type": "stream",
     "text": [
      "\n",
      "\n",
      "\n",
      "\n",
      "\n",
      "                 mean       std    median      5.0%     95.0%     n_eff     r_hat\n",
      "   b_h[0,0]     -0.01      1.02     -0.00     -1.65      1.65  30237.14      1.00\n",
      "   b_h[0,1]      0.01      1.02      0.02     -1.67      1.66  12034.04      1.00\n",
      "   b_h[0,2]      0.01      1.03      0.01     -1.69      1.67   4396.29      1.00\n",
      "   b_h[0,3]      0.00      1.02     -0.00     -1.68      1.65  16151.83      1.00\n",
      "   b_h[0,4]     -0.01      1.02     -0.01     -1.77      1.55   6050.93      1.00\n",
      "   b_h[0,5]     -0.01      1.02      0.00     -1.66      1.64  31206.20      1.00\n",
      "   b_h[0,6]      0.02      1.02      0.02     -1.70      1.66   5439.36      1.00\n",
      "   b_h[0,7]     -0.00      1.01     -0.02     -1.64      1.66  44371.34      1.00\n",
      "   b_h[0,8]     -0.01      1.01      0.00     -1.63      1.64  34541.34      1.00\n",
      "   b_h[0,9]     -0.01      1.04     -0.01     -1.71      1.68   2637.06      1.00\n",
      "  b_h[0,10]      0.01      1.01      0.03     -1.62      1.66  19142.02      1.00\n",
      "  b_h[0,11]     -0.00      1.01      0.00     -1.65      1.65  36281.21      1.00\n",
      "  b_h[0,12]     -0.00      1.01     -0.01     -1.65      1.65  37217.30      1.00\n",
      "  b_h[0,13]     -0.01      1.02     -0.03     -1.66      1.64  16540.13      1.00\n",
      "  b_h[0,14]      0.01      1.02      0.01     -1.70      1.60  11505.50      1.00\n",
      "   b_h_prec      1.72      3.67      0.68      0.00      4.05  53706.83      1.00\n",
      "   b_o[0,0]     -0.31      0.23     -0.25     -0.68     -0.02   1331.36      1.01\n",
      "  w_ho[0,0]     -0.01      1.02     -0.00     -1.69      1.63   8669.19      1.00\n",
      "  w_ho[1,0]      0.00      1.01      0.01     -1.66      1.63  29729.14      1.00\n",
      "  w_ho[2,0]     -0.01      1.01     -0.02     -1.64      1.67  24527.57      1.00\n",
      "  w_ho[3,0]     -0.01      1.02     -0.01     -1.66      1.64  23587.36      1.00\n",
      "  w_ho[4,0]      0.00      1.02      0.00     -1.67      1.66  15819.78      1.00\n",
      "  w_ho[5,0]     -0.00      1.01      0.00     -1.66      1.66  40734.50      1.00\n",
      "  w_ho[6,0]      0.01      1.01      0.03     -1.62      1.67  30121.27      1.00\n",
      "  w_ho[7,0]     -0.01      1.02     -0.03     -1.66      1.65  27920.45      1.00\n",
      "  w_ho[8,0]     -0.00      1.02     -0.01     -1.67      1.67  15119.10      1.00\n",
      "  w_ho[9,0]     -0.00      1.01     -0.00     -1.65      1.65  16600.28      1.00\n",
      " w_ho[10,0]      0.03      1.04      0.02     -1.70      1.67   2410.33      1.00\n",
      " w_ho[11,0]     -0.00      1.01     -0.01     -1.64      1.66  30308.37      1.00\n",
      " w_ho[12,0]      0.01      1.03      0.02     -1.67      1.69   5173.50      1.00\n",
      " w_ho[13,0]     -0.01      1.02     -0.03     -1.70      1.63  19213.79      1.00\n",
      " w_ho[14,0]      0.01      1.02      0.01     -1.67      1.64  19471.66      1.00\n",
      "  w_ho_prec      0.05      0.08      0.02      0.00      0.12  29331.74      1.00\n",
      "  w_ih[0,0]      0.01      1.00      0.00     -1.64      1.68   7948.25      1.00\n",
      "  w_ih[0,1]     -0.00      1.00     -0.00     -1.61      1.67   8123.55      1.00\n",
      "  w_ih[0,2]     -0.01      1.00     -0.00     -1.62      1.66  14001.68      1.00\n",
      "  w_ih[0,3]     -0.01      0.99     -0.01     -1.63      1.63  33853.87      1.00\n",
      "  w_ih[0,4]      0.01      0.99      0.01     -1.62      1.62  20107.47      1.00\n",
      "  w_ih[0,5]     -0.00      1.00      0.00     -1.62      1.65   7318.31      1.00\n",
      "  w_ih[0,6]     -0.01      0.99     -0.02     -1.65      1.61  26315.92      1.00\n",
      "  w_ih[0,7]      0.00      1.00      0.01     -1.62      1.63   8004.54      1.00\n",
      "  w_ih[0,8]     -0.01      1.00      0.00     -1.64      1.63  15220.78      1.00\n",
      "  w_ih[0,9]      0.01      0.99      0.01     -1.63      1.61  58032.05      1.00\n",
      " w_ih[0,10]      0.01      0.99      0.00     -1.63      1.62  56254.76      1.00\n",
      " w_ih[0,11]     -0.01      1.00     -0.02     -1.62      1.66  20314.26      1.00\n",
      " w_ih[0,12]      0.00      1.00      0.01     -1.64      1.64  17989.48      1.00\n",
      " w_ih[0,13]     -0.02      1.01     -0.02     -1.63      1.70   3120.77      1.00\n",
      " w_ih[0,14]     -0.02      1.00     -0.02     -1.70      1.56   7666.96      1.00\n",
      "  w_ih[1,0]      0.01      1.02      0.01     -1.60      1.76  11534.44      1.00\n",
      "  w_ih[1,1]      0.01      1.02      0.01     -1.64      1.74  10006.77      1.00\n",
      "  w_ih[1,2]     -0.01      1.01     -0.01     -1.66      1.68  48512.10      1.00\n",
      "  w_ih[1,3]     -0.01      1.03     -0.00     -1.76      1.61   5973.18      1.00\n",
      "  w_ih[1,4]      0.00      1.01      0.00     -1.66      1.67  67431.37      1.00\n",
      "  w_ih[1,5]     -0.00      1.02      0.01     -1.71      1.65  26517.22      1.00\n",
      "  w_ih[1,6]     -0.00      1.02     -0.01     -1.68      1.67  11816.71      1.00\n",
      "  w_ih[1,7]     -0.01      1.01     -0.02     -1.68      1.66  24692.49      1.00\n",
      "  w_ih[1,8]     -0.03      1.03     -0.02     -1.77      1.64   4153.59      1.00\n",
      "  w_ih[1,9]     -0.03      1.03     -0.02     -1.85      1.56   5617.91      1.00\n",
      " w_ih[1,10]     -0.01      1.01     -0.00     -1.66      1.68  43074.59      1.00\n",
      " w_ih[1,11]     -0.01      1.02     -0.01     -1.68      1.67  10137.23      1.00\n",
      " w_ih[1,12]      0.01      1.03      0.01     -1.68      1.70  10650.29      1.00\n",
      " w_ih[1,13]      0.01      1.02      0.02     -1.66      1.71  11171.82      1.00\n",
      " w_ih[1,14]     -0.00      1.01     -0.01     -1.68      1.66  39579.46      1.00\n",
      "  w_ih_prec      4.49      4.91      3.00      0.00     10.10   1011.15      1.01\n",
      "\n",
      "Number of divergences: 5608\n"
     ]
    }
   ],
   "source": [
    "rng_key = random.PRNGKey(42)\n",
    "rng_key, rng_key_predict = random.split(rng_key)\n",
    "\n",
    "nuts_kernel = NUTS(model, adapt_mass_matrix=True, \n",
    "                   init_strategy = init_to_value(values=init_values))\n",
    "\n",
    "mcmc = MCMC(nuts_kernel,\n",
    "            num_samples=ITER,\n",
    "            num_warmup=1000,\n",
    "            num_chains=CHAINS,\n",
    "            progress_bar=False if \"NUMPYRO_SPHINXBUILD\" in os.environ else True)\n",
    "\n",
    "mcmc.run(rng_key,\n",
    "         jnp.array(X_train.reshape((len(Y_train), 2))), \n",
    "         jnp.array(Y_train.reshape((len(Y_train), 1))))\n",
    "\n",
    "mcmc.print_summary()\n",
    "\n",
    "samples = mcmc.get_samples()"
   ]
  },
  {
   "cell_type": "code",
   "execution_count": 10,
   "metadata": {},
   "outputs": [
    {
     "data": {
      "text/plain": [
       "[<matplotlib.lines.Line2D at 0x7fa16c758898>]"
      ]
     },
     "execution_count": 10,
     "metadata": {},
     "output_type": "execute_result"
    },
    {
     "data": {
      "image/png": "[encoded data removed]",
      "text/plain": [
       "<Figure size 1080x720 with 1 Axes>"
      ]
     },
     "metadata": {
      "needs_background": "light"
     },
     "output_type": "display_data"
    }
   ],
   "source": [
    "plt.figure(figsize = (15,10))\n",
    "plt.plot(1/jnp.sqrt(samples[\"w_ho_prec\"]), \"ko\", markersize=2)"
   ]
  },
  {
   "cell_type": "code",
   "execution_count": 11,
   "metadata": {},
   "outputs": [],
   "source": [
    "# TODO: can we make this more like tf_probability? The vmap function speeds it up.\n",
    "\n",
    "def predict(model, rng_key, samples, X):\n",
    "    \n",
    "    model = handlers.substitute(handlers.seed(model, rng_key), samples)\n",
    "    \n",
    "    # note that Y will be sampled in the model because we pass Y=None here\n",
    "    \n",
    "    model_trace = handlers.trace(model).get_trace(x=X, y=None)\n",
    "    \n",
    "    return model_trace['y_pred']['value']"
   ]
  },
  {
   "cell_type": "code",
   "execution_count": 12,
   "metadata": {},
   "outputs": [],
   "source": [
    "# Train and Test Predictions\n",
    "\n",
    "# vmap_args = (samples, random.split(rng_key_predict, ITER * CHAINS))\n",
    "# train_predictions = vmap(lambda samples, rng_key: predict(model, rng_key, samples, X_train))(*vmap_args)\n",
    "# test_predictions = vmap(lambda samples, rng_key: predict(model, rng_key, samples, X_test))(*vmap_args)\n",
    "# y_train_pred = train_predictions[..., 0]\n",
    "# y_test_pred = test_predictions[..., 0]"
   ]
  },
  {
   "cell_type": "code",
   "execution_count": 13,
   "metadata": {},
   "outputs": [],
   "source": [
    "def prob_prediction(x, w_ih_raw, b_h_raw, w_ho_raw, b_o_raw, w_ih_prec, b_h_prec, w_ho_prec):\n",
    "    \n",
    "    w_ih = (1/jnp.sqrt(w_ih_prec)) * w_ih_raw\n",
    "    b_h = (1/jnp.sqrt(b_h_prec)) * b_h_raw\n",
    "    w_ho = (1/jnp.sqrt(w_ho_prec)) * w_ho_raw\n",
    "    b_o = 100*b_o_raw\n",
    "    \n",
    "    z1 = jnp.matmul(x, w_ih) + b_h\n",
    "    a1 = jnp.tanh(z1)\n",
    "    output = jnp.matmul(a1, w_ho) + b_o\n",
    "    output = 1/(1 + jnp.exp(-output))\n",
    "    \n",
    "    return output"
   ]
  },
  {
   "cell_type": "code",
   "execution_count": 14,
   "metadata": {},
   "outputs": [],
   "source": [
    "train_predictions = np.zeros((ITER * CHAINS, X_train.shape[0]))\n",
    "\n",
    "for i in range(0, len(samples[\"w_ih\"])):\n",
    "    \n",
    "    w_ih = samples[\"w_ih\"][i]\n",
    "    b_h = samples[\"b_h\"][i]\n",
    "    w_ho = samples[\"w_ho\"][i]\n",
    "    b_o = samples[\"b_o\"][i]\n",
    "    w_ih_prec = samples[\"w_ih_prec\"][i]\n",
    "    b_h_prec = samples[\"b_h_prec\"][i]\n",
    "    w_ho_prec = samples[\"w_ho_prec\"][i]\n",
    "    \n",
    "    train_predictions[i, :] = prob_prediction(X_train, w_ih, b_h, w_ho, b_o, w_ih_prec,\n",
    "                                              b_h_prec, w_ho_prec).reshape(X_train.shape[0])\n",
    "    \n",
    "test_predictions = np.zeros((ITER * CHAINS, X_test.shape[0]))\n",
    "\n",
    "for i in range(0, len(samples[\"w_ih\"])):\n",
    "    \n",
    "    w_ih = samples[\"w_ih\"][i]\n",
    "    b_h = samples[\"b_h\"][i]\n",
    "    w_ho = samples[\"w_ho\"][i]\n",
    "    b_o = samples[\"b_o\"][i]\n",
    "    w_ih_prec = samples[\"w_ih_prec\"][i]\n",
    "    b_h_prec = samples[\"b_h_prec\"][i]\n",
    "    w_ho_prec = samples[\"w_ho_prec\"][i]\n",
    "    \n",
    "    test_predictions[i, :] = prob_prediction(X_test, w_ih, b_h, w_ho, b_o, w_ih_prec,\n",
    "                                             b_h_prec, w_ho_prec).reshape(X_test.shape[0])"
   ]
  },
  {
   "cell_type": "code",
   "execution_count": 15,
   "metadata": {},
   "outputs": [],
   "source": [
    "y_train_pred = train_predictions\n",
    "y_test_pred = test_predictions"
   ]
  },
  {
   "cell_type": "code",
   "execution_count": 16,
   "metadata": {},
   "outputs": [],
   "source": [
    "df_predictions_train = pd.DataFrame({\n",
    "    \n",
    "    \"X_V1\": X_train[:, 0].flatten(),\n",
    "    \"X_V2\": X_train[:, 1].flatten(),\n",
    "    \"targets\": Y_train.flatten(),\n",
    "    \"mean\": y_train_pred[100:, :].mean(axis=0),\n",
    "    \"median\": np.quantile(y_train_pred, 0.5, axis=0),\n",
    "    \"q1\": np.quantile(y_train_pred, 0.01, axis=0),\n",
    "    \"q10\": np.quantile(y_train_pred, 0.10, axis=0),\n",
    "    \"q90\": np.quantile(y_train_pred, 0.90, axis=0),\n",
    "    \"q99\": np.quantile(y_train_pred, 0.99, axis=0),\n",
    "    \"label\": \"train\"\n",
    "\n",
    "})\n",
    "\n",
    "df_predictions_test = pd.DataFrame({\n",
    "    \n",
    "    \"X_V1\": X_test[:, 0].flatten(),\n",
    "    \"X_V2\": X_test[:, 1].flatten(),\n",
    "    \"targets\": Y_test.flatten(),\n",
    "    \"mean\": y_test_pred.mean(axis=0),\n",
    "    \"median\": np.quantile(y_test_pred, 0.5, axis=0),\n",
    "    \"q1\": np.quantile(y_test_pred, 0.01, axis=0),\n",
    "    \"q10\": np.quantile(y_test_pred, 0.10, axis=0),\n",
    "    \"q90\": np.quantile(y_test_pred, 0.90, axis=0),\n",
    "    \"q99\": np.quantile(y_test_pred, 0.99, axis=0),\n",
    "    \"label\": \"test\"\n",
    "\n",
    "})\n",
    "\n",
    "# df = df_predictions_train.copy(deep=True)\n",
    "# df = df.sort_values(\"inputs\").reset_index()\n",
    "\n",
    "# fig = go.Figure([\n",
    "#     go.Scatter(\n",
    "#         name='median',\n",
    "#         x=df['inputs'],\n",
    "#         y=df['median'],\n",
    "#         mode='lines',\n",
    "#         line=dict(color='rgb(31, 119, 180)'),\n",
    "#     ),\n",
    "#     go.Scatter(\n",
    "#         name='Upper Bound',\n",
    "#         x=df['inputs'],\n",
    "#         y=df['q1'],\n",
    "#         mode='lines',\n",
    "#         marker=dict(color=\"#444\"),\n",
    "#         line=dict(width=0),\n",
    "#         showlegend=False\n",
    "#     ),\n",
    "#     go.Scatter(\n",
    "#         name='Lower Bound',\n",
    "#         x=df['inputs'],\n",
    "#         y=df['q99'],\n",
    "#         marker=dict(color=\"#444\"),\n",
    "#         line=dict(width=0),\n",
    "#         mode='lines',\n",
    "#         fillcolor='rgba(68, 68, 68, 0.3)',\n",
    "#         fill='tonexty',\n",
    "#         showlegend=False\n",
    "#     )\n",
    "# ])\n",
    "\n",
    "# fig.add_scatter(x=df['inputs'], y=df['targets'], mode=\"markers\")\n",
    "\n",
    "# fig.update_layout(\n",
    "#     yaxis_title='Y',\n",
    "#     title='Training Set',\n",
    "#     hovermode=\"x\"\n",
    "# )\n",
    "# fig.show()\n",
    "\n",
    "# df = df_predictions_test.copy(deep=True)\n",
    "# df = df.sort_values(\"inputs\").reset_index()\n",
    "\n",
    "# fig = go.Figure([\n",
    "#     go.Scatter(\n",
    "#         name='median',\n",
    "#         x=df['inputs'],\n",
    "#         y=df['median'],\n",
    "#         mode='lines',\n",
    "#         line=dict(color='rgb(31, 119, 180)'),\n",
    "#     ),\n",
    "#     go.Scatter(\n",
    "#         name='Upper Bound',\n",
    "#         x=df['inputs'],\n",
    "#         y=df['q1'],\n",
    "#         mode='lines',\n",
    "#         marker=dict(color=\"#444\"),\n",
    "#         line=dict(width=0),\n",
    "#         showlegend=False\n",
    "#     ),\n",
    "#     go.Scatter(\n",
    "#         name='Lower Bound',\n",
    "#         x=df['inputs'],\n",
    "#         y=df['q99'],\n",
    "#         marker=dict(color=\"#444\"),\n",
    "#         line=dict(width=0),\n",
    "#         mode='lines',\n",
    "#         fillcolor='rgba(68, 68, 68, 0.3)',\n",
    "#         fill='tonexty',\n",
    "#         showlegend=False\n",
    "#     )\n",
    "# ])\n",
    "\n",
    "# fig.add_scatter(x=df['inputs'], y=df['targets'], mode=\"markers\")\n",
    "\n",
    "# fig.update_layout(\n",
    "#     yaxis_title='Y',\n",
    "#     title='Training Set',\n",
    "#     hovermode=\"x\"\n",
    "# )\n",
    "# fig.show()"
   ]
  },
  {
   "cell_type": "code",
   "execution_count": 17,
   "metadata": {},
   "outputs": [],
   "source": [
    "# Low-level parameters\n",
    "\n",
    "df_wih = pd.DataFrame(samples['w_ih'].reshape(ITER*CHAINS, 30))\n",
    "df_bh = pd.DataFrame(samples['b_h'].reshape(ITER*CHAINS, 15))\n",
    "df_who = pd.DataFrame(samples['w_ho'].reshape(ITER*CHAINS, 15))\n",
    "df_bo = pd.DataFrame(samples['b_o'].reshape(ITER*CHAINS, 1))\n",
    "\n",
    "df_wih.columns = [\"w_ih_\" + str(i) for i in range(0, 30)]\n",
    "df_bh.columns = [\"b_h_\" + str(i) for i in range(0, 15)]\n",
    "df_who.columns = [\"w_ho_\" + str(i) for i in range(0, 15)]\n",
    "df_bo.columns = [\"b_o_\" + str(i) for i in range(1, 2)]\n",
    "\n",
    "df_traces = pd.concat([df_wih, df_bh, df_who, df_bo], ignore_index=False, axis=1)\n",
    "\n",
    "# High level parameters\n",
    "\n",
    "df_traces[\"W_prec_ih\"] = samples['w_ih_prec'].reshape(ITER*CHAINS,)\n",
    "df_traces[\"B_prec_h\"] = samples['b_h_prec'].reshape(ITER*CHAINS,)\n",
    "df_traces[\"W_prec_ho\"] = samples['w_ho_prec'].reshape(ITER*CHAINS,)\n",
    "df_traces[\"trace\"] = 1\n",
    "\n",
    "df_traces[\"id\"] = df_traces.index\n",
    "\n",
    "df_traces[\"trace\"] = np.where(np.logical_and(df_traces[\"id\"] >= 0, df_traces[\"id\"] < ITER), 1, \n",
    "                                  np.where(np.logical_and(df_traces[\"id\"] >= ITER, df_traces[\"id\"] < 2*ITER), 2, \n",
    "                                      np.where(np.logical_and(df_traces[\"id\"] >= 2*ITER, df_traces[\"id\"] < 3*ITER), 3, \n",
    "                                              np.where(np.logical_and(df_traces[\"id\"] >= 3*ITER, df_traces[\"id\"] < 4*ITER), 4, 0))))"
   ]
  },
  {
   "cell_type": "code",
   "execution_count": 18,
   "metadata": {},
   "outputs": [],
   "source": [
    "def divide_by_precision(df_traces, primary, precision):\n",
    "    \n",
    "    df_traces[primary] = df_traces[primary].div(np.sqrt(df_traces[precision]), axis=0)\n",
    "    \n",
    "    return df_traces\n",
    "\n",
    "w_ih_cols = [col for col in df_traces.columns if re.match(\"w_ih_\", col)]\n",
    "b_h_cols = [col for col in df_traces.columns if re.match(\"b_h_\", col)]\n",
    "w_ho_cols = [col for col in df_traces.columns if re.match(\"w_ho_\", col)]\n",
    "b_o_cols = [col for col in df_traces.columns if re.match(\"b_o_\", col)]\n",
    "\n",
    "df_traces = divide_by_precision(df_traces, w_ih_cols, \"W_prec_ih\")\n",
    "df_traces = divide_by_precision(df_traces, b_h_cols, \"B_prec_h\")\n",
    "df_traces = divide_by_precision(df_traces, w_ho_cols, \"W_prec_ho\")\n",
    "df_traces[b_o_cols] = df_traces[b_o_cols]*100"
   ]
  },
  {
   "cell_type": "code",
   "execution_count": 19,
   "metadata": {},
   "outputs": [],
   "source": [
    "# Write results to disk\n",
    "\n",
    "df_traces.to_feather(f\"{new_dir}/df_traces.feather\")"
   ]
  },
  {
   "cell_type": "code",
   "execution_count": 20,
   "metadata": {},
   "outputs": [],
   "source": [
    "# Write predictions to disk\n",
    "\n",
    "df_predictions = pd.concat([df_predictions_train, df_predictions_test]).reset_index()\n",
    "df_predictions.drop(f\"index\", axis=1).to_feather(f\"{new_dir}/df_predictions.feather\")"
   ]
  },
  {
   "cell_type": "code",
   "execution_count": 21,
   "metadata": {},
   "outputs": [
    {
     "name": "stdout",
     "output_type": "stream",
     "text": [
      "../../output/bin_class/numpyro_nc_2021_04_29_12_41_38\n"
     ]
    }
   ],
   "source": [
    "print(new_dir)"
   ]
  }
 ],
 "metadata": {
  "kernelspec": {
   "display_name": "Python 3",
   "language": "python",
   "name": "python3"
  },
  "language_info": {
   "codemirror_mode": {
    "name": "ipython",
    "version": 3
   },
   "file_extension": ".py",
   "mimetype": "text/x-python",
   "name": "python",
   "nbconvert_exporter": "python",
   "pygments_lexer": "ipython3",
   "version": "3.6.7"
  },
  "latex_envs": {
   "LaTeX_envs_menu_present": true,
   "autoclose": false,
   "autocomplete": true,
   "bibliofile": "biblio.bib",
   "cite_by": "apalike",
   "current_citInitial": 1,
   "eqLabelWithNumbers": true,
   "eqNumInitial": 1,
   "hotkeys": {
    "equation": "Ctrl-E",
    "itemize": "Ctrl-I"
   },
   "labels_anchors": false,
   "latex_user_defs": false,
   "report_style_numbering": false,
   "user_envs_cfg": false
  },
  "toc": {
   "base_numbering": 1,
   "nav_menu": {},
   "number_sections": true,
   "sideBar": true,
   "skip_h1_title": false,
   "title_cell": "Table of Contents",
   "title_sidebar": "Contents",
   "toc_cell": false,
   "toc_position": {},
   "toc_section_display": true,
   "toc_window_display": false
  }
 },
 "nbformat": 4,
 "nbformat_minor": 4
}
