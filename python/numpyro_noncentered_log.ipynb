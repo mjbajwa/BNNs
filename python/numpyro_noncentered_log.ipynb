{
 "cells": [
  {
   "cell_type": "code",
   "execution_count": 1,
   "metadata": {},
   "outputs": [],
   "source": [
    "import os\n",
    "import datetime\n",
    "import matplotlib\n",
    "import matplotlib.pyplot as plt\n",
    "import numpy as np\n",
    "import pandas as pd\n",
    "from jax import vmap\n",
    "import jax.numpy as jnp\n",
    "import jax.random as random\n",
    "import numpyro\n",
    "from numpyro import handlers\n",
    "import numpyro.distributions as dist\n",
    "from numpyro.infer import MCMC, NUTS\n",
    "from tqdm import tqdm_notebook\n",
    "import plotly.graph_objects as go\n",
    "import re\n",
    "from numpyro.contrib.tfp.distributions import ExpGamma\n",
    "from numpyro.infer.initialization import init_to_value\n",
    "\n",
    "numpyro.util.set_rng_seed(0)\n",
    "numpyro.set_platform('cpu')\n",
    "numpyro.set_host_device_count(4)"
   ]
  },
  {
   "cell_type": "code",
   "execution_count": 2,
   "metadata": {},
   "outputs": [],
   "source": [
    "# Create folder for storing results\n",
    "\n",
    "time = datetime.datetime.now().strftime('%Y_%m_%d_%H_%M_%S')\n",
    "new_dir = os.path.join(\"../output/\", \"numpyro_nc_\" + time)\n",
    "os.mkdir(new_dir)"
   ]
  },
  {
   "cell_type": "code",
   "execution_count": 3,
   "metadata": {},
   "outputs": [],
   "source": [
    "ITER = 500000\n",
    "CHAINS = 4"
   ]
  },
  {
   "cell_type": "code",
   "execution_count": 4,
   "metadata": {},
   "outputs": [],
   "source": [
    "def load_data():\n",
    "\n",
    "    # Load Data\n",
    "\n",
    "    df = pd.read_table(\"../data/rdata\", header=None, delim_whitespace=True)\n",
    "    df.columns = [\"X\", \"Y\"]\n",
    "    df[\"index\"] = np.where(df.index < 100, \"Train\", \"Test\")\n",
    "\n",
    "    # Create train and test\n",
    "\n",
    "    X_train = np.array(df.loc[df[\"index\"] == \"Train\", \"X\"]).reshape(-1, 1)\n",
    "    Y_train = np.array(df.loc[df[\"index\"] == \"Train\", \"Y\"])\n",
    "    X_test = np.array(df.loc[df[\"index\"] == \"Test\", \"X\"]).reshape(-1, 1)\n",
    "    Y_test = np.array(df.loc[df[\"index\"] == \"Test\", \"Y\"])\n",
    "\n",
    "    return X_train, X_test, Y_train, Y_test"
   ]
  },
  {
   "cell_type": "code",
   "execution_count": 5,
   "metadata": {},
   "outputs": [],
   "source": [
    "X_train, X_test, Y_train, Y_test = load_data()"
   ]
  },
  {
   "cell_type": "code",
   "execution_count": 6,
   "metadata": {},
   "outputs": [],
   "source": [
    "def model(x, y):\n",
    "    \n",
    "    # Hyperparameters\n",
    "    \n",
    "    w_ih_prec = numpyro.sample(\"w_ih_prec\", ExpGamma(0.25, 0.000625))\n",
    "    b_h_prec = numpyro.sample(\"b_h_prec\", ExpGamma(0.25, 0.000625))\n",
    "    w_ho_prec = numpyro.sample(\"w_ho_prec\", ExpGamma(0.25, 0.000625))\n",
    "    y_prec = numpyro.sample(\"y_prec\", ExpGamma(0.25, 0.000625))\n",
    "    \n",
    "    # Low Level Parameters (non-centered)\n",
    "\n",
    "    w_ih_raw = numpyro.sample(\"w_ih\", dist.Normal(loc=jnp.zeros((1, 8)), scale=1))\n",
    "    b_h_raw = numpyro.sample(\"b_h\", dist.Normal(loc=jnp.zeros((1, 8)), scale=1))\n",
    "    w_ho_raw = numpyro.sample(\"w_ho\", dist.Normal(loc=jnp.zeros((8, 1)), scale=1))\n",
    "    b_o_raw = numpyro.sample(\"b_o\", dist.Normal(loc=jnp.zeros((1, 1)), scale=1))\n",
    "    \n",
    "    # Define intermediate parameters\n",
    "    \n",
    "    w_ih = (1/jnp.sqrt(jnp.exp(w_ih_prec))) * w_ih_raw\n",
    "    b_h = (1/jnp.sqrt(jnp.exp(b_h_prec))) * b_h_raw\n",
    "    w_ho = (1/jnp.sqrt(jnp.exp(w_ho_prec))) * w_ho_raw\n",
    "    b_o = 100*b_o_raw\n",
    "    \n",
    "    # Forward Pass\n",
    "\n",
    "    z1 = jnp.matmul(x, w_ih) + b_h\n",
    "    a1 = jnp.tanh(z1)\n",
    "    output = jnp.matmul(a1, w_ho) + b_o\n",
    "    \n",
    "    return numpyro.sample(\"y_pred\", dist.Normal(output, 1/jnp.sqrt(jnp.exp(y_prec))), obs=y)\n",
    "    # return numpyro.sample(\"y_pred\", dist.Normal(output, 1/jnp.sqrt(y_prec))) #, obs=jnp.array([]))"
   ]
  },
  {
   "cell_type": "code",
   "execution_count": 7,
   "metadata": {},
   "outputs": [],
   "source": [
    "init_values = {\n",
    "    \n",
    "    \"w_ih_prec\": 0.,\n",
    "    \"b_h_prec\": 0.,\n",
    "    \"w_ho_prec\": 0.,\n",
    "    \"y_prec\": 0.,\n",
    "    \"w_ih\": jnp.zeros((1, 8)),\n",
    "    \"b_h\": jnp.zeros((1, 8)),\n",
    "    \"w_ho\": jnp.zeros((8, 1)),\n",
    "    \"b_o\": jnp.zeros((1, 1))\n",
    "    \n",
    "}"
   ]
  },
  {
   "cell_type": "code",
   "execution_count": 8,
   "metadata": {
    "scrolled": true
   },
   "outputs": [
    {
     "data": {
      "application/vnd.jupyter.widget-view+json": {
       "model_id": "8403be627ecc410080bf92c2320aa527",
       "version_major": 2,
       "version_minor": 0
      },
      "text/plain": [
       "HBox(children=(IntProgress(value=0, max=501000), HTML(value='')))"
      ]
     },
     "metadata": {},
     "output_type": "display_data"
    },
    {
     "data": {
      "application/vnd.jupyter.widget-view+json": {
       "model_id": "1c01e74be0744c5b8c79fd16d9229b64",
       "version_major": 2,
       "version_minor": 0
      },
      "text/plain": [
       "HBox(children=(IntProgress(value=0, max=501000), HTML(value='')))"
      ]
     },
     "metadata": {},
     "output_type": "display_data"
    },
    {
     "data": {
      "application/vnd.jupyter.widget-view+json": {
       "model_id": "e36bc8cd5a8a4837b5fcd49d24ce78b8",
       "version_major": 2,
       "version_minor": 0
      },
      "text/plain": [
       "HBox(children=(IntProgress(value=0, max=501000), HTML(value='')))"
      ]
     },
     "metadata": {},
     "output_type": "display_data"
    },
    {
     "data": {
      "application/vnd.jupyter.widget-view+json": {
       "model_id": "608bbe21085540f88261586b119f963d",
       "version_major": 2,
       "version_minor": 0
      },
      "text/plain": [
       "HBox(children=(IntProgress(value=0, max=501000), HTML(value='')))"
      ]
     },
     "metadata": {},
     "output_type": "display_data"
    },
    {
     "name": "stdout",
     "output_type": "stream",
     "text": [
      "\n",
      "\n",
      "\n",
      "\n",
      "\n",
      "                 mean       std    median      5.0%     95.0%     n_eff     r_hat\n",
      "   b_h[0,0]      0.02      0.97      0.02     -1.61      1.58    614.06      1.01\n",
      "   b_h[0,1]     -0.03      0.95     -0.02     -1.61      1.53    745.35      1.00\n",
      "   b_h[0,2]     -0.02      0.98     -0.02     -1.61      1.62    677.06      1.01\n",
      "   b_h[0,3]      0.04      0.97      0.06     -1.57      1.63    672.19      1.01\n",
      "   b_h[0,4]      0.05      0.98      0.05     -1.55      1.67    783.11      1.00\n",
      "   b_h[0,5]     -0.08      0.99     -0.07     -1.71      1.57    429.37      1.01\n",
      "   b_h[0,6]     -0.00      0.95      0.00     -1.58      1.58    910.18      1.00\n",
      "   b_h[0,7]      0.03      0.98      0.05     -1.60      1.63    674.92      1.01\n",
      "   b_h_prec      4.79      2.89      5.73     -1.43      8.02     24.69      1.15\n",
      "   b_o[0,0]      0.01      0.05      0.01     -0.05      0.07   3107.55      1.00\n",
      "  w_ho[0,0]      0.07      1.02      0.09     -1.59      1.74    636.26      1.01\n",
      "  w_ho[1,0]     -0.01      1.05     -0.00     -1.70      1.70    840.18      1.00\n",
      "  w_ho[2,0]     -0.00      1.03     -0.02     -1.62      1.69    578.91      1.01\n",
      "  w_ho[3,0]      0.01      1.04      0.03     -1.69      1.68    785.84      1.00\n",
      "  w_ho[4,0]      0.05      1.04      0.06     -1.66      1.73    818.74      1.00\n",
      "  w_ho[5,0]     -0.07      1.03     -0.11     -1.68      1.66    742.20      1.00\n",
      "  w_ho[6,0]     -0.02      1.04     -0.02     -1.71      1.65    833.76      1.00\n",
      "  w_ho[7,0]      0.03      1.01      0.04     -1.62      1.65    688.92      1.00\n",
      "  w_ho_prec     -6.19      2.26     -6.73     -9.54     -2.31     26.20      1.13\n",
      "  w_ih[0,0]      0.04      1.02      0.07     -1.63      1.71    383.14      1.01\n",
      "  w_ih[0,1]      0.03      1.03      0.04     -1.68      1.71    391.77      1.01\n",
      "  w_ih[0,2]     -0.03      1.05      0.02     -1.81      1.63    309.01      1.03\n",
      "  w_ih[0,3]      0.01      1.00     -0.00     -1.62      1.65    405.19      1.01\n",
      "  w_ih[0,4]      0.03      1.03      0.03     -1.65      1.74    405.34      1.01\n",
      "  w_ih[0,5]     -0.07      1.03     -0.08     -1.78      1.60    278.31      1.02\n",
      "  w_ih[0,6]     -0.06      0.99     -0.08     -1.64      1.58    557.76      1.01\n",
      "  w_ih[0,7]      0.04      1.05      0.03     -1.68      1.78    272.86      1.01\n",
      "  w_ih_prec      1.12      1.03      1.35     -0.34      2.66     36.23      1.09\n",
      "     y_prec      4.82      0.15      4.82      4.57      5.06  47331.77      1.00\n",
      "\n",
      "Number of divergences: 1152\n"
     ]
    }
   ],
   "source": [
    "rng_key = random.PRNGKey(42)\n",
    "rng_key, rng_key_predict = random.split(rng_key)\n",
    "\n",
    "nuts_kernel = NUTS(model, adapt_mass_matrix=False, \n",
    "                  init_strategy=init_to_value(values=init_values))\n",
    "\n",
    "mcmc = MCMC(nuts_kernel,\n",
    "            num_samples=ITER,\n",
    "            num_warmup=1000,\n",
    "            num_chains=CHAINS,\n",
    "            progress_bar=False if \"NUMPYRO_SPHINXBUILD\" in os.environ else True)\n",
    "\n",
    "mcmc.run(rng_key,\n",
    "         jnp.array(X_train.reshape((len(Y_train), 1))), \n",
    "         jnp.array(Y_train.reshape((len(Y_train), 1))))\n",
    "\n",
    "mcmc.print_summary()\n",
    "\n",
    "samples = mcmc.get_samples()"
   ]
  },
  {
   "cell_type": "code",
   "execution_count": 9,
   "metadata": {},
   "outputs": [
    {
     "data": {
      "text/plain": [
       "[<matplotlib.lines.Line2D at 0x7fc2a414acc0>]"
      ]
     },
     "execution_count": 9,
     "metadata": {},
     "output_type": "execute_result"
    },
    {
     "data": {
      "image/png": "[encoded data removed]",
      "text/plain": [
       "<Figure size 1080x720 with 1 Axes>"
      ]
     },
     "metadata": {
      "needs_background": "light"
     },
     "output_type": "display_data"
    }
   ],
   "source": [
    "plt.figure(figsize = (15,10))\n",
    "plt.plot(1/jnp.sqrt(jnp.exp(samples[\"w_ho_prec\"])), \"ko\", markersize=2)"
   ]
  },
  {
   "cell_type": "code",
   "execution_count": 10,
   "metadata": {},
   "outputs": [],
   "source": [
    "# TODO: can we make this more like tf_probability? The vmap function speeds it up.\n",
    "\n",
    "def predict(model, rng_key, samples, X):\n",
    "    \n",
    "    model = handlers.substitute(handlers.seed(model, rng_key), samples)\n",
    "    \n",
    "    # note that Y will be sampled in the model because we pass Y=None here\n",
    "    \n",
    "    model_trace = handlers.trace(model).get_trace(x=X, y=None)\n",
    "    \n",
    "    return model_trace['y_pred']['value']"
   ]
  },
  {
   "cell_type": "code",
   "execution_count": 11,
   "metadata": {},
   "outputs": [],
   "source": [
    "# Train and Test Predictions\n",
    "\n",
    "# vmap_args = (samples, random.split(rng_key_predict, ITER * CHAINS))\n",
    "# train_predictions = vmap(lambda samples, rng_key: predict(model, rng_key, samples, X_train))(*vmap_args)\n",
    "# test_predictions = vmap(lambda samples, rng_key: predict(model, rng_key, samples, X_test))(*vmap_args)\n",
    "# y_train_pred = train_predictions[..., 0]\n",
    "# y_test_pred = test_predictions[..., 0]"
   ]
  },
  {
   "cell_type": "code",
   "execution_count": 12,
   "metadata": {},
   "outputs": [],
   "source": [
    "# df_predictions_train = pd.DataFrame({\n",
    "    \n",
    "#     \"inputs\": X_train.flatten(),\n",
    "#     \"targets\": Y_train.flatten(),\n",
    "#     \"mean\": y_train_pred.mean(axis=0),\n",
    "#     \"median\": np.quantile(y_train_pred, 0.5, axis=0),\n",
    "#     \"q1\": np.quantile(y_train_pred, 0.01, axis=0),\n",
    "#     \"q10\": np.quantile(y_train_pred, 0.10, axis=0),\n",
    "#     \"q90\": np.quantile(y_train_pred, 0.90, axis=0),\n",
    "#     \"q99\": np.quantile(y_train_pred, 0.99, axis=0),\n",
    "#     \"label\": \"train\"\n",
    "\n",
    "# })\n",
    "\n",
    "# df_predictions_test = pd.DataFrame({\n",
    "    \n",
    "#     \"inputs\": X_test.flatten(),\n",
    "#     \"targets\": Y_test.flatten(),\n",
    "#     \"mean\": y_test_pred.mean(axis=0),\n",
    "#     \"median\": np.quantile(y_test_pred, 0.5, axis=0),\n",
    "#     \"q1\": np.quantile(y_test_pred, 0.01, axis=0),\n",
    "#     \"q10\": np.quantile(y_test_pred, 0.10, axis=0),\n",
    "#     \"q90\": np.quantile(y_test_pred, 0.90, axis=0),\n",
    "#     \"q99\": np.quantile(y_test_pred, 0.99, axis=0),\n",
    "#     \"label\": \"test\"\n",
    "\n",
    "# })\n",
    "\n",
    "# df = df_predictions_train.copy(deep=True)\n",
    "# df = df.sort_values(\"inputs\").reset_index()\n",
    "\n",
    "# fig = go.Figure([\n",
    "#     go.Scatter(\n",
    "#         name='median',\n",
    "#         x=df['inputs'],\n",
    "#         y=df['median'],\n",
    "#         mode='lines',\n",
    "#         line=dict(color='rgb(31, 119, 180)'),\n",
    "#     ),\n",
    "#     go.Scatter(\n",
    "#         name='Upper Bound',\n",
    "#         x=df['inputs'],\n",
    "#         y=df['q1'],\n",
    "#         mode='lines',\n",
    "#         marker=dict(color=\"#444\"),\n",
    "#         line=dict(width=0),\n",
    "#         showlegend=False\n",
    "#     ),\n",
    "#     go.Scatter(\n",
    "#         name='Lower Bound',\n",
    "#         x=df['inputs'],\n",
    "#         y=df['q99'],\n",
    "#         marker=dict(color=\"#444\"),\n",
    "#         line=dict(width=0),\n",
    "#         mode='lines',\n",
    "#         fillcolor='rgba(68, 68, 68, 0.3)',\n",
    "#         fill='tonexty',\n",
    "#         showlegend=False\n",
    "#     )\n",
    "# ])\n",
    "\n",
    "# fig.add_scatter(x=df['inputs'], y=df['targets'], mode=\"markers\")\n",
    "\n",
    "# fig.update_layout(\n",
    "#     yaxis_title='Y',\n",
    "#     title='Training Set',\n",
    "#     hovermode=\"x\"\n",
    "# )\n",
    "# fig.show()\n",
    "\n",
    "# df = df_predictions_test.copy(deep=True)\n",
    "# df = df.sort_values(\"inputs\").reset_index()\n",
    "\n",
    "# fig = go.Figure([\n",
    "#     go.Scatter(\n",
    "#         name='median',\n",
    "#         x=df['inputs'],\n",
    "#         y=df['median'],\n",
    "#         mode='lines',\n",
    "#         line=dict(color='rgb(31, 119, 180)'),\n",
    "#     ),\n",
    "#     go.Scatter(\n",
    "#         name='Upper Bound',\n",
    "#         x=df['inputs'],\n",
    "#         y=df['q1'],\n",
    "#         mode='lines',\n",
    "#         marker=dict(color=\"#444\"),\n",
    "#         line=dict(width=0),\n",
    "#         showlegend=False\n",
    "#     ),\n",
    "#     go.Scatter(\n",
    "#         name='Lower Bound',\n",
    "#         x=df['inputs'],\n",
    "#         y=df['q99'],\n",
    "#         marker=dict(color=\"#444\"),\n",
    "#         line=dict(width=0),\n",
    "#         mode='lines',\n",
    "#         fillcolor='rgba(68, 68, 68, 0.3)',\n",
    "#         fill='tonexty',\n",
    "#         showlegend=False\n",
    "#     )\n",
    "# ])\n",
    "\n",
    "# fig.add_scatter(x=df['inputs'], y=df['targets'], mode=\"markers\")\n",
    "\n",
    "# fig.update_layout(\n",
    "#     yaxis_title='Y',\n",
    "#     title='Training Set',\n",
    "#     hovermode=\"x\"\n",
    "# )\n",
    "# fig.show()"
   ]
  },
  {
   "cell_type": "code",
   "execution_count": 13,
   "metadata": {},
   "outputs": [],
   "source": [
    "# Low-level parameters\n",
    "\n",
    "df_wih = pd.DataFrame(samples['w_ih'].reshape(ITER*CHAINS, 8))\n",
    "df_bh = pd.DataFrame(samples['b_h'].reshape(ITER*CHAINS, 8))\n",
    "df_who = pd.DataFrame(samples['w_ho'].reshape(ITER*CHAINS, 8))\n",
    "df_bo = pd.DataFrame(samples['b_o'].reshape(ITER*CHAINS, 1))\n",
    "\n",
    "df_wih.columns = [\"w_ih_\" + str(i) for i in range(0,8)]\n",
    "df_bh.columns = [\"b_h_\" + str(i) for i in range(0, 8)]\n",
    "df_who.columns = [\"w_ho_\" + str(i) for i in range(0, 8)]\n",
    "df_bo.columns = [\"b_o_\" + str(i) for i in range(1, 2)]\n",
    "\n",
    "df_traces = pd.concat([df_wih, df_bh, df_who, df_bo], ignore_index=False, axis=1)\n",
    "\n",
    "# High level parameters\n",
    "\n",
    "df_traces[\"W_prec_ih\"] = samples['w_ih_prec'].reshape(ITER*CHAINS,)\n",
    "df_traces[\"B_prec_h\"] = samples['b_h_prec'].reshape(ITER*CHAINS,)\n",
    "df_traces[\"W_prec_ho\"] = samples['w_ho_prec'].reshape(ITER*CHAINS,)\n",
    "df_traces[\"y_prec\"] = samples['y_prec'].reshape(ITER*CHAINS,)\n",
    "df_traces[\"trace\"] = 1\n",
    "\n",
    "df_traces[\"id\"] = df_traces.index\n",
    "\n",
    "df_traces[\"trace\"] = np.where(np.logical_and(df_traces[\"id\"] >= 0, df_traces[\"id\"] < ITER), 1, \n",
    "                                  np.where(np.logical_and(df_traces[\"id\"] >= ITER, df_traces[\"id\"] < 2*ITER), 2, \n",
    "                                      np.where(np.logical_and(df_traces[\"id\"] >= 2*ITER, df_traces[\"id\"] < 3*ITER), 3, \n",
    "                                              np.where(np.logical_and(df_traces[\"id\"] >= 3*ITER, df_traces[\"id\"] < 4*ITER), 4, 0))))"
   ]
  },
  {
   "cell_type": "code",
   "execution_count": 14,
   "metadata": {},
   "outputs": [],
   "source": [
    "df_traces[[\"W_prec_ih\"]] = df_traces[\"W_prec_ih\"].apply(np.exp)\n",
    "df_traces[[\"B_prec_h\"]] = df_traces[\"B_prec_h\"].apply(np.exp)\n",
    "df_traces[[\"W_prec_ho\"]] = df_traces[\"W_prec_ho\"].apply(np.exp)\n",
    "df_traces[[\"y_prec\"]] = df_traces[\"y_prec\"].apply(np.exp)"
   ]
  },
  {
   "cell_type": "code",
   "execution_count": 15,
   "metadata": {},
   "outputs": [],
   "source": [
    "def divide_by_precision(df_traces, primary, precision):\n",
    "    \n",
    "    df_traces[primary] = df_traces[primary].div(np.sqrt(df_traces[precision]), axis=0)\n",
    "    \n",
    "    return df_traces\n",
    "\n",
    "w_ih_cols = [col for col in df_traces.columns if re.match(\"w_ih_\", col)]\n",
    "b_h_cols = [col for col in df_traces.columns if re.match(\"b_h_\", col)]\n",
    "w_ho_cols = [col for col in df_traces.columns if re.match(\"w_ho_\", col)]\n",
    "b_o_cols = [col for col in df_traces.columns if re.match(\"b_o_\", col)]\n",
    "\n",
    "df_traces = divide_by_precision(df_traces, w_ih_cols, \"W_prec_ih\")\n",
    "df_traces = divide_by_precision(df_traces, b_h_cols, \"B_prec_h\")\n",
    "df_traces = divide_by_precision(df_traces, w_ho_cols, \"W_prec_ho\")\n",
    "df_traces[b_o_cols] = df_traces[b_o_cols]*100"
   ]
  },
  {
   "cell_type": "code",
   "execution_count": 16,
   "metadata": {},
   "outputs": [],
   "source": [
    "# Write results to disk\n",
    "\n",
    "df_traces.to_feather(f\"{new_dir}/df_traces.feather\")"
   ]
  },
  {
   "cell_type": "code",
   "execution_count": 17,
   "metadata": {},
   "outputs": [],
   "source": [
    "# Write predictions to disk\n",
    "\n",
    "# df_predictions = pd.concat([df_predictions_train, df_predictions_test]).reset_index()\n",
    "# df_predictions.drop(f\"index\", axis=1).to_feather(f\"{new_dir}/df_predictions.feather\")"
   ]
  },
  {
   "cell_type": "code",
   "execution_count": 18,
   "metadata": {},
   "outputs": [
    {
     "name": "stdout",
     "output_type": "stream",
     "text": [
      "../output/numpyro_nc_2021_03_22_17_53_35\n"
     ]
    }
   ],
   "source": [
    "print(new_dir)"
   ]
  }
 ],
 "metadata": {
  "kernelspec": {
   "display_name": "Python 3",
   "language": "python",
   "name": "python3"
  },
  "language_info": {
   "codemirror_mode": {
    "name": "ipython",
    "version": 3
   },
   "file_extension": ".py",
   "mimetype": "text/x-python",
   "name": "python",
   "nbconvert_exporter": "python",
   "pygments_lexer": "ipython3",
   "version": "3.6.7"
  },
  "latex_envs": {
   "LaTeX_envs_menu_present": true,
   "autoclose": false,
   "autocomplete": true,
   "bibliofile": "biblio.bib",
   "cite_by": "apalike",
   "current_citInitial": 1,
   "eqLabelWithNumbers": true,
   "eqNumInitial": 1,
   "hotkeys": {
    "equation": "Ctrl-E",
    "itemize": "Ctrl-I"
   },
   "labels_anchors": false,
   "latex_user_defs": false,
   "report_style_numbering": false,
   "user_envs_cfg": false
  },
  "toc": {
   "base_numbering": 1,
   "nav_menu": {},
   "number_sections": true,
   "sideBar": true,
   "skip_h1_title": false,
   "title_cell": "Table of Contents",
   "title_sidebar": "Contents",
   "toc_cell": false,
   "toc_position": {},
   "toc_section_display": true,
   "toc_window_display": false
  }
 },
 "nbformat": 4,
 "nbformat_minor": 4
}
