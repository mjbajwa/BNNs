{
 "cells": [
  {
   "cell_type": "code",
   "execution_count": 1,
   "metadata": {},
   "outputs": [],
   "source": [
    "import os\n",
    "import datetime\n",
    "import matplotlib\n",
    "import matplotlib.pyplot as plt\n",
    "import numpy as np\n",
    "import pandas as pd\n",
    "from jax import vmap\n",
    "import jax.numpy as jnp\n",
    "import jax.random as random\n",
    "import numpyro\n",
    "from numpyro import handlers\n",
    "import numpyro.distributions as dist\n",
    "from numpyro.infer import MCMC, NUTS\n",
    "from tqdm import tqdm_notebook\n",
    "import plotly.graph_objects as go\n",
    "from numpyro.infer.initialization import init_to_value\n",
    "import sklearn.metrics as metrics\n",
    "from jax.nn import softmax\n",
    "from sklearn.preprocessing import LabelBinarizer\n",
    "from jax import ops\n",
    "from jax.experimental import loops\n",
    "import jax\n",
    "\n",
    "numpyro.util.set_rng_seed(0)\n",
    "numpyro.set_platform('cpu')\n",
    "numpyro.set_host_device_count(4)"
   ]
  },
  {
   "cell_type": "code",
   "execution_count": 2,
   "metadata": {},
   "outputs": [],
   "source": [
    "# Create folder for storing results\n",
    "\n",
    "time = datetime.datetime.now().strftime('%Y_%m_%d_%H_%M_%S')\n",
    "new_dir = os.path.join(\"../../output/multi_class/\", \"numpyro_c_\" + time)\n",
    "os.mkdir(new_dir)"
   ]
  },
  {
   "cell_type": "code",
   "execution_count": 3,
   "metadata": {},
   "outputs": [
    {
     "name": "stdout",
     "output_type": "stream",
     "text": [
      "../../output/multi_class/numpyro_c_2021_05_13_11_28_25\n"
     ]
    }
   ],
   "source": [
    "print(new_dir)"
   ]
  },
  {
   "cell_type": "code",
   "execution_count": 4,
   "metadata": {},
   "outputs": [],
   "source": [
    "ITER = 100000\n",
    "CHAINS = 4"
   ]
  },
  {
   "cell_type": "code",
   "execution_count": 5,
   "metadata": {},
   "outputs": [],
   "source": [
    "def load_data():\n",
    "\n",
    "    # Load Data\n",
    "\n",
    "    df = pd.read_table(\"../../data/cdata\", header=None, delim_whitespace=True)\n",
    "    df.columns = [\"X1\", \"X2\", \"X3\", \"X4\", \"Y\"]\n",
    "    df[\"index\"] = np.where(df.index < 400, \"Train\", \"Test\")\n",
    "\n",
    "    # Create train and test\n",
    "\n",
    "    X_train = np.array(df.loc[df[\"index\"] == \"Train\", [\"X1\", \"X2\", \"X3\", \"X4\"]]).reshape(-1, 4)\n",
    "    Y_train = np.array(df.loc[df[\"index\"] == \"Train\", \"Y\"])\n",
    "    X_test = np.array(df.loc[df[\"index\"] == \"Test\", [\"X1\", \"X2\", \"X3\", \"X4\"]]).reshape(-1, 4)\n",
    "    Y_test = np.array(df.loc[df[\"index\"] == \"Test\", \"Y\"])\n",
    "\n",
    "    return X_train, X_test, Y_train, Y_test"
   ]
  },
  {
   "cell_type": "code",
   "execution_count": 6,
   "metadata": {},
   "outputs": [],
   "source": [
    "X_train, X_test, Y_train, Y_test = load_data()"
   ]
  },
  {
   "cell_type": "code",
   "execution_count": 7,
   "metadata": {},
   "outputs": [],
   "source": [
    "# One hot encode Y_train to align with dist.Multinomial()\n",
    "\n",
    "Y_train_ohe = LabelBinarizer().fit_transform(Y_train)"
   ]
  },
  {
   "cell_type": "code",
   "execution_count": 8,
   "metadata": {},
   "outputs": [],
   "source": [
    "def model(x, y):\n",
    "    \n",
    "    # ARD Hyperparameters for inputs \n",
    "    \n",
    "    w_ih_prec = numpyro.sample(\"w_ih_prec\", dist.Gamma(0.25, 0.000625))\n",
    "    w_ih_prec_1 = numpyro.sample(\"w_ih_prec_1\", dist.Gamma(0.5, 0.5*(1/w_ih_prec)))\n",
    "    w_ih_prec_2 = numpyro.sample(\"w_ih_prec_2\", dist.Gamma(0.5, 0.5*(1/w_ih_prec)))\n",
    "    w_ih_prec_3 = numpyro.sample(\"w_ih_prec_3\", dist.Gamma(0.5, 0.5*(1/w_ih_prec)))\n",
    "    w_ih_prec_4 = numpyro.sample(\"w_ih_prec_4\", dist.Gamma(0.5, 0.5*(1/w_ih_prec)))\n",
    "    \n",
    "    # Hyperparameters for ho weights and biases\n",
    "    \n",
    "    b_h_prec = numpyro.sample(\"b_h_prec\", dist.Gamma(0.25, 0.000625))\n",
    "    w_ho_prec = numpyro.sample(\"w_ho_prec\", dist.Gamma(0.25, 7.8125e-05))\n",
    "    b_o_prec = numpyro.sample(\"b_o_prec\", dist.Gamma(0.25, 0.000625))\n",
    "    \n",
    "    # Input weight-matrix\n",
    "    \n",
    "    w_ih_1 = numpyro.sample(\"w_ih_1\", dist.Normal(loc=jnp.zeros((1, 8)), scale=1/jnp.sqrt(w_ih_prec_1)))\n",
    "    w_ih_2 = numpyro.sample(\"w_ih_2\", dist.Normal(loc=jnp.zeros((1, 8)), scale=1/jnp.sqrt(w_ih_prec_2)))\n",
    "    w_ih_3 = numpyro.sample(\"w_ih_3\", dist.Normal(loc=jnp.zeros((1, 8)), scale=1/jnp.sqrt(w_ih_prec_3)))\n",
    "    w_ih_4 = numpyro.sample(\"w_ih_4\", dist.Normal(loc=jnp.zeros((1, 8)), scale=1/jnp.sqrt(w_ih_prec_4)))\n",
    "    \n",
    "    # Low Level Parameters\n",
    "\n",
    "    b_h = numpyro.sample(\"b_h\", dist.Normal(loc=jnp.zeros((1, 8)), scale=1/jnp.sqrt(b_h_prec)))\n",
    "    w_ho = numpyro.sample(\"w_ho\", dist.Normal(loc=jnp.zeros((8, 3)), scale=1/jnp.sqrt(w_ho_prec)))\n",
    "    b_o = numpyro.sample(\"b_o\", dist.Normal(loc=jnp.zeros((1, 3)), scale=1/jnp.sqrt(b_o_prec)))\n",
    "    \n",
    "    # Forward Pass\n",
    "    \n",
    "    w_ih = jnp.stack([w_ih_1, w_ih_2, w_ih_3, w_ih_4], axis=1).reshape(4, 8)\n",
    "    z1 = jnp.matmul(x, w_ih) + b_h\n",
    "    a1 = jnp.tanh(z1)\n",
    "    output = jnp.matmul(a1, w_ho) + b_o\n",
    "    output_sm = softmax(output)\n",
    "    \n",
    "    return numpyro.sample(\"y_pred\", dist.Multinomial(total_count=1, probs=output_sm), obs=y)"
   ]
  },
  {
   "cell_type": "code",
   "execution_count": 9,
   "metadata": {},
   "outputs": [],
   "source": [
    "# import torch.distributions\n",
    "# a = torch.distributions.Multinomial(total_count=1, probs=torch.tensor([0.3, 0.3, 0.4]))\n",
    "# a.sample()"
   ]
  },
  {
   "cell_type": "code",
   "execution_count": 10,
   "metadata": {},
   "outputs": [],
   "source": [
    "init_values = {\n",
    "    \n",
    "    \"w_ih_prec\": 1.,\n",
    "    \"w_ih_prec_1\": 1.,\n",
    "    \"w_ih_prec_2\": 1.,\n",
    "    \"w_ih_prec_3\": 1.,\n",
    "    \"w_ih_prec_4\": 1.,\n",
    "    \"b_h_prec\": 1.,\n",
    "    \"w_ho_prec\": 1.,\n",
    "    \"w_ih_1\": jnp.zeros((1, 8)),\n",
    "    \"w_ih_2\": jnp.zeros((1, 8)),\n",
    "    \"w_ih_3\": jnp.zeros((1, 8)),\n",
    "    \"w_ih_4\": jnp.zeros((1, 8)),\n",
    "    \"b_h\": jnp.zeros((1, 8)),\n",
    "    \"w_ho\": jnp.zeros((8, 3)),\n",
    "    \"b_o\": jnp.zeros((1, 3))\n",
    "\n",
    "}"
   ]
  },
  {
   "cell_type": "code",
   "execution_count": 11,
   "metadata": {
    "scrolled": false
   },
   "outputs": [
    {
     "data": {
      "application/vnd.jupyter.widget-view+json": {
       "model_id": "283016f4217a469186853f97e9bc5a35",
       "version_major": 2,
       "version_minor": 0
      },
      "text/plain": [
       "HBox(children=(IntProgress(value=0, max=101000), HTML(value='')))"
      ]
     },
     "metadata": {},
     "output_type": "display_data"
    },
    {
     "data": {
      "application/vnd.jupyter.widget-view+json": {
       "model_id": "44393f6d25644a35a53842cf25d6a234",
       "version_major": 2,
       "version_minor": 0
      },
      "text/plain": [
       "HBox(children=(IntProgress(value=0, max=101000), HTML(value='')))"
      ]
     },
     "metadata": {},
     "output_type": "display_data"
    },
    {
     "data": {
      "application/vnd.jupyter.widget-view+json": {
       "model_id": "d338e2ea7e6c4b7e8e490f52b08d308a",
       "version_major": 2,
       "version_minor": 0
      },
      "text/plain": [
       "HBox(children=(IntProgress(value=0, max=101000), HTML(value='')))"
      ]
     },
     "metadata": {},
     "output_type": "display_data"
    },
    {
     "data": {
      "application/vnd.jupyter.widget-view+json": {
       "model_id": "3b181d22e83c481eba1be22485eeae1b",
       "version_major": 2,
       "version_minor": 0
      },
      "text/plain": [
       "HBox(children=(IntProgress(value=0, max=101000), HTML(value='')))"
      ]
     },
     "metadata": {},
     "output_type": "display_data"
    },
    {
     "name": "stdout",
     "output_type": "stream",
     "text": [
      "\n",
      "\n",
      "\n",
      "\n",
      "\n",
      "                   mean       std    median      5.0%     95.0%     n_eff     r_hat\n",
      "     b_h[0,0]     -0.02      2.37      0.04     -3.38      3.39  26937.63      1.00\n",
      "     b_h[0,1]     -0.27      2.40     -0.55     -3.40      3.34    132.73      1.02\n",
      "     b_h[0,2]     -0.11      2.38     -0.32     -3.40      3.39  11522.57      1.00\n",
      "     b_h[0,3]      0.05      2.41      0.16     -3.43      3.39  16972.27      1.00\n",
      "     b_h[0,4]      0.11      2.41      0.28     -3.37      3.38    813.05      1.01\n",
      "     b_h[0,5]     -0.08      2.42     -0.17     -3.41      3.36  15928.33      1.00\n",
      "     b_h[0,6]      0.10      2.41      0.23     -3.41      3.37    209.15      1.02\n",
      "     b_h[0,7]      0.28      2.47      0.68     -3.43      3.39    178.88      1.02\n",
      "     b_h_prec      0.71      1.60      0.40      0.00      1.57    148.17      1.02\n",
      "     b_o[0,0]     -0.37      3.35     -0.01     -1.08      0.87   2403.40      1.00\n",
      "     b_o[0,1]     -0.13      2.93     -0.00     -0.99      0.87   2756.21      1.00\n",
      "     b_o[0,2]      0.32      3.13      0.01     -0.86      1.13   3353.35      1.00\n",
      "     b_o_prec    392.00    714.02    121.58      0.00   1046.77    284.75      1.02\n",
      "    w_ho[0,0]      2.37      6.30      1.94     -5.48     12.55      7.02      1.31\n",
      "    w_ho[0,1]     -0.27      4.49     -0.71     -6.99      6.75     47.13      1.03\n",
      "    w_ho[0,2]     -1.94      7.07     -0.84    -13.49      6.14      5.77      1.36\n",
      "    w_ho[1,0]     -1.55      5.18     -1.95     -8.99      6.06     17.66      1.11\n",
      "    w_ho[1,1]     -0.24      4.39     -0.69     -6.90      7.00    391.42      1.01\n",
      "    w_ho[1,2]      1.92      6.98      0.86     -6.05     13.37      5.87      1.33\n",
      "    w_ho[2,0]      1.77      5.47      1.94     -6.18      9.14     12.07      1.16\n",
      "    w_ho[2,1]      1.04      6.41      0.67     -8.41     11.13      6.19      1.29\n",
      "    w_ho[2,2]      0.35      5.57      0.79     -8.87      7.20     19.99      1.08\n",
      "    w_ho[3,0]     -1.32      5.76     -0.75     -9.80      5.86      7.43      1.24\n",
      "    w_ho[3,1]      3.01      6.75      1.77     -5.09     13.81      6.60      1.33\n",
      "    w_ho[3,2]      2.78      7.15      2.12     -5.94     15.14      6.62      1.28\n",
      "    w_ho[4,0]     -2.67      6.91     -1.90    -14.47      5.31      5.66      1.39\n",
      "    w_ho[4,1]     -1.17      4.74     -1.77     -7.06      6.78     27.69      1.07\n",
      "    w_ho[4,2]     -1.80      7.70     -0.84    -13.96      8.24      5.54      1.37\n",
      "    w_ho[5,0]      1.95      6.89      0.79     -6.21     13.84      5.86      1.41\n",
      "    w_ho[5,1]      1.64      5.18      1.77     -5.73      8.87     10.98      1.14\n",
      "    w_ho[5,2]      1.15      6.88     -0.33     -6.43     18.55     27.16      1.11\n",
      "    w_ho[6,0]      1.61      6.24      1.74     -5.55     16.75     30.45      1.10\n",
      "    w_ho[6,1]      0.28      4.34      0.48     -6.83      6.98   1522.53      1.00\n",
      "    w_ho[6,2]      1.60      7.18      0.82     -7.47     13.68      5.72      1.34\n",
      "    w_ho[7,0]     -0.26      4.67     -0.77     -7.53      7.18    405.99      1.01\n",
      "    w_ho[7,1]      0.32      4.91      0.63     -7.18      6.70     16.34      1.10\n",
      "    w_ho[7,2]     -0.72      5.98      0.60    -13.53      6.00     40.06      1.08\n",
      "    w_ho_prec      0.05      0.06      0.04      0.00      0.12     31.83      1.06\n",
      "  w_ih_1[0,0]      0.16      2.19      0.44     -3.49      3.57    100.90      1.02\n",
      "  w_ih_1[0,1]      0.37      2.40      0.33     -3.38      3.82     14.19      1.10\n",
      "  w_ih_1[0,2]     -0.07      2.19     -0.01     -3.49      3.59    265.50      1.02\n",
      "  w_ih_1[0,3]     -0.01      2.13     -0.09     -3.56      3.49  39743.87      1.00\n",
      "  w_ih_1[0,4]      0.22      2.18      0.50     -3.56      3.48    422.43      1.01\n",
      "  w_ih_1[0,5]     -0.06      2.17      0.08     -3.47      3.54    377.35      1.01\n",
      "  w_ih_1[0,6]      0.06      2.14      0.06     -3.54      3.49   8170.21      1.00\n",
      "  w_ih_1[0,7]      0.11      2.34      0.37     -3.51      3.52     38.91      1.05\n",
      "  w_ih_2[0,0]     -0.35      2.23     -0.77     -3.29      3.23    164.63      1.02\n",
      "  w_ih_2[0,1]     -0.24      2.17     -0.59     -3.28      3.21    382.30      1.01\n",
      "  w_ih_2[0,2]      0.15      2.22      0.25     -3.26      3.26    186.89      1.02\n",
      "  w_ih_2[0,3]     -0.35      2.24     -0.53     -3.24      3.25     31.67      1.04\n",
      "  w_ih_2[0,4]     -0.16      2.14     -0.33     -3.27      3.23    267.63      1.01\n",
      "  w_ih_2[0,5]     -0.18      2.22     -0.36     -3.31      3.22     50.06      1.03\n",
      "  w_ih_2[0,6]      0.09      2.18      0.22     -3.27      3.23    437.35      1.01\n",
      "  w_ih_2[0,7]      0.36      2.24      0.58     -3.13      3.36     39.00      1.04\n",
      "  w_ih_3[0,0]     -0.00      0.17     -0.00     -0.23      0.23  13572.03      1.00\n",
      "  w_ih_3[0,1]     -0.00      0.17     -0.00     -0.23      0.22  15479.99      1.00\n",
      "  w_ih_3[0,2]      0.01      0.17      0.00     -0.21      0.25    438.27      1.01\n",
      "  w_ih_3[0,3]     -0.01      0.17     -0.01     -0.23      0.23   2569.47      1.01\n",
      "  w_ih_3[0,4]     -0.00      0.16     -0.00     -0.23      0.22  14212.75      1.00\n",
      "  w_ih_3[0,5]      0.01      0.17      0.01     -0.22      0.23   2781.77      1.00\n",
      "  w_ih_3[0,6]      0.00      0.16      0.00     -0.23      0.23  19421.11      1.00\n",
      "  w_ih_3[0,7]      0.00      0.17      0.00     -0.22      0.23  24961.15      1.00\n",
      "  w_ih_4[0,0]     -0.00      0.16     -0.00     -0.22      0.21  36934.02      1.00\n",
      "  w_ih_4[0,1]      0.00      0.15      0.00     -0.22      0.21  43371.27      1.00\n",
      "  w_ih_4[0,2]      0.00      0.15      0.00     -0.22      0.22   2545.81      1.00\n",
      "  w_ih_4[0,3]     -0.01      0.15     -0.01     -0.22      0.22    840.75      1.01\n",
      "  w_ih_4[0,4]      0.00      0.16      0.00     -0.21      0.22  12594.75      1.00\n",
      "  w_ih_4[0,5]     -0.00      0.16     -0.00     -0.21      0.22  22569.61      1.00\n",
      "  w_ih_4[0,6]      0.00      0.15      0.00     -0.22      0.21  33114.13      1.00\n",
      "  w_ih_4[0,7]      0.00      0.15      0.00     -0.21      0.22  28306.40      1.00\n",
      "    w_ih_prec    189.30    347.40     87.58      0.13    410.93   1898.13      1.00\n",
      "  w_ih_prec_1      0.42      0.36      0.33      0.01      0.89     45.47      1.08\n",
      "  w_ih_prec_2      0.44      0.38      0.34      0.01      0.89    165.47      1.02\n",
      "  w_ih_prec_3    288.92    681.37    103.23      0.08    650.09    931.79      1.01\n",
      "  w_ih_prec_4    272.83    641.01    127.93      0.16    510.19  15427.70      1.00\n",
      "\n",
      "Number of divergences: 102087\n"
     ]
    }
   ],
   "source": [
    "rng_key = random.PRNGKey(42)\n",
    "rng_key, rng_key_predict = random.split(rng_key)\n",
    "\n",
    "nuts_kernel = NUTS(model, \n",
    "                   adapt_mass_matrix=False, \n",
    "                   init_strategy = init_to_value(values=init_values))\n",
    "\n",
    "mcmc = MCMC(nuts_kernel,\n",
    "            num_samples=ITER,\n",
    "            num_warmup=1000,\n",
    "            num_chains=4,\n",
    "            progress_bar=False if \"NUMPYRO_SPHINXBUILD\" in os.environ else True)\n",
    "\n",
    "mcmc.run(rng_key,\n",
    "         jnp.array(X_train.reshape((len(Y_train), 4))), \n",
    "         jnp.array(Y_train_ohe.reshape((len(Y_train), 3))))\n",
    "\n",
    "mcmc.print_summary()\n",
    "\n",
    "samples = mcmc.get_samples()"
   ]
  },
  {
   "cell_type": "code",
   "execution_count": 12,
   "metadata": {
    "scrolled": false
   },
   "outputs": [
    {
     "data": {
      "image/png": "[encoded data removed]",
      "text/plain": [
       "<Figure size 1080x720 with 4 Axes>"
      ]
     },
     "metadata": {
      "needs_background": "light"
     },
     "output_type": "display_data"
    }
   ],
   "source": [
    "plt.figure(figsize = (15,10))\n",
    "BASE = 4\n",
    "\n",
    "plt.subplot(2, 2, 1)\n",
    "plt.plot(1/jnp.sqrt(samples[\"w_ih_prec_1\"][1:(ITER)]), \"k-\", markersize=2)\n",
    "plt.plot(1/jnp.sqrt(samples[\"w_ih_prec_2\"][1:(ITER)]), \"g-\", markersize=2)\n",
    "plt.plot(1/jnp.sqrt(samples[\"w_ih_prec_3\"][1:(ITER)]), \"yo\", markersize=2)\n",
    "plt.plot(1/jnp.sqrt(samples[\"w_ih_prec_4\"][1:(ITER)]), \"yo\", markersize=2)\n",
    "plt.yscale('log',basey=BASE) \n",
    "\n",
    "plt.subplot(2, 2, 2)\n",
    "plt.plot(1/jnp.sqrt(samples[\"w_ih_prec_1\"][ITER:2*ITER]), \"k-\", markersize=2)\n",
    "plt.plot(1/jnp.sqrt(samples[\"w_ih_prec_2\"][ITER:2*ITER]), \"g-\", markersize=2)\n",
    "plt.plot(1/jnp.sqrt(samples[\"w_ih_prec_3\"][ITER:2*ITER]), \"yo\", markersize=2)\n",
    "plt.plot(1/jnp.sqrt(samples[\"w_ih_prec_4\"][ITER:2*ITER]), \"yo\", markersize=2)\n",
    "plt.yscale('log',basey=BASE) \n",
    "\n",
    "plt.subplot(2, 2, 3)\n",
    "plt.plot(1/jnp.sqrt(samples[\"w_ih_prec_1\"][2*ITER:3*ITER]), \"k-\", markersize=2)\n",
    "plt.plot(1/jnp.sqrt(samples[\"w_ih_prec_2\"][2*ITER:3*ITER]), \"g-\", markersize=2)\n",
    "plt.plot(1/jnp.sqrt(samples[\"w_ih_prec_3\"][2*ITER:3*ITER]), \"yo\", markersize=2)\n",
    "plt.plot(1/jnp.sqrt(samples[\"w_ih_prec_4\"][2*ITER:3*ITER]), \"yo\", markersize=2)\n",
    "plt.yscale('log',basey=BASE) \n",
    "\n",
    "plt.subplot(2, 2, 4)\n",
    "plt.plot(1/jnp.sqrt(samples[\"w_ih_prec_1\"][3*ITER:4*ITER]), \"k-\", markersize=2)\n",
    "plt.plot(1/jnp.sqrt(samples[\"w_ih_prec_2\"][3*ITER:4*ITER]), \"g-\", markersize=2)\n",
    "plt.plot(1/jnp.sqrt(samples[\"w_ih_prec_3\"][3*ITER:4*ITER]), \"yo\", markersize=2)\n",
    "plt.plot(1/jnp.sqrt(samples[\"w_ih_prec_4\"][3*ITER:4*ITER]), \"yo\", markersize=2)\n",
    "plt.yscale('log',basey=BASE) "
   ]
  },
  {
   "cell_type": "code",
   "execution_count": 13,
   "metadata": {},
   "outputs": [],
   "source": [
    "# TODO: can we make this more like tf_probability? The vmap function speeds it up.\n",
    "\n",
    "# def predict(model, rng_key, samples, X):\n",
    "    \n",
    "#     model = handlers.substitute(handlers.seed(model, rng_key), samples)\n",
    "    \n",
    "#     # note that Y will be sampled in the model because we pass Y=None here\n",
    "    \n",
    "#     model_trace = handlers.trace(model).get_trace(x=X, y=None)\n",
    "    \n",
    "#     return model_trace['output']['value']"
   ]
  },
  {
   "cell_type": "code",
   "execution_count": 14,
   "metadata": {},
   "outputs": [],
   "source": [
    "def prob_prediction(x, w_ih_1, w_ih_2, w_ih_3, w_ih_4, b_h, w_ho, b_o):\n",
    "    \n",
    "    w_ih = jnp.stack([w_ih_1, w_ih_2, w_ih_3, w_ih_4], axis=1).reshape(4, 8)\n",
    "    z1 = jnp.matmul(x, w_ih) + b_h\n",
    "    a1 = jnp.tanh(z1)\n",
    "    output = jnp.matmul(a1, w_ho) + b_o\n",
    "    \n",
    "    return softmax(output)"
   ]
  },
  {
   "cell_type": "code",
   "execution_count": 15,
   "metadata": {},
   "outputs": [
    {
     "data": {
      "text/plain": [
       "(400000, 1, 8)"
      ]
     },
     "execution_count": 15,
     "metadata": {},
     "output_type": "execute_result"
    }
   ],
   "source": [
    "samples['b_h'].shape"
   ]
  },
  {
   "cell_type": "code",
   "execution_count": 16,
   "metadata": {},
   "outputs": [],
   "source": [
    "with loops.Scope() as s:\n",
    "\n",
    "    s.train_predictions = np.zeros((ITER * CHAINS, X_train.shape[0], 3))\n",
    "    s.test_predictions = np.zeros((ITER * CHAINS, X_test.shape[0], 3))\n",
    "    \n",
    "    for i in s.range(0, len(samples[\"w_ih_1\"])):\n",
    "\n",
    "        w_ih_1 = samples[\"w_ih_1\"][i]\n",
    "        w_ih_2 = samples[\"w_ih_2\"][i]\n",
    "        w_ih_3 = samples[\"w_ih_3\"][i]\n",
    "        w_ih_4 = samples[\"w_ih_4\"][i]\n",
    "        b_h = samples[\"b_h\"][i]\n",
    "        w_ho = samples[\"w_ho\"][i]\n",
    "        b_o = samples[\"b_o\"][i]\n",
    "\n",
    "        s.train_predictions = ops.index_update(s.train_predictions, jax.ops.index[i, :] ,\n",
    "                                               prob_prediction(X_train, w_ih_1, w_ih_2, w_ih_3, w_ih_4, b_h, w_ho, b_o).reshape(\n",
    "                                                   X_train.shape[0], 3))\n",
    "        \n",
    "        s.test_predictions = ops.index_update(s.test_predictions, jax.ops.index[i, :] ,\n",
    "                                               prob_prediction(X_test, w_ih_1, w_ih_2, w_ih_3, w_ih_4, b_h, w_ho, b_o).reshape(\n",
    "                                                   X_test.shape[0], 3))"
   ]
  },
  {
   "cell_type": "code",
   "execution_count": 17,
   "metadata": {},
   "outputs": [],
   "source": [
    "# train_predictions = np.zeros((ITER * CHAINS, X_train.shape[0], 3))\n",
    "\n",
    "# for i in range(0, len(samples[\"w_ih_1\"])):\n",
    "\n",
    "#     w_ih_1 = samples[\"w_ih_1\"][i]\n",
    "#     w_ih_2 = samples[\"w_ih_2\"][i]\n",
    "#     w_ih_3 = samples[\"w_ih_3\"][i]\n",
    "#     w_ih_4 = samples[\"w_ih_4\"][i]\n",
    "#     b_h = samples[\"b_h\"][i]\n",
    "#     w_ho = samples[\"w_ho\"][i]\n",
    "#     b_o = samples[\"b_o\"][i]\n",
    "\n",
    "#     train_predictions[i, :] = prob_prediction(X_train, w_ih_1, w_ih_2, w_ih_3, w_ih_4,  \n",
    "#                                               b_h, w_ho, b_o).reshape(X_train.shape[0], 3)\n",
    "\n",
    "# test_predictions = np.zeros((ITER * CHAINS, X_test.shape[0], 3))\n",
    "\n",
    "# for i in range(0, len(samples[\"w_ih_1\"])):\n",
    "    \n",
    "#     w_ih_1 = samples[\"w_ih_1\"][i]\n",
    "#     w_ih_2 = samples[\"w_ih_2\"][i]\n",
    "#     w_ih_3 = samples[\"w_ih_3\"][i]\n",
    "#     w_ih_4 = samples[\"w_ih_4\"][i]\n",
    "#     b_h = samples[\"b_h\"][i]\n",
    "#     w_ho = samples[\"w_ho\"][i]\n",
    "#     b_o = samples[\"b_o\"][i]\n",
    "    \n",
    "#     test_predictions[i, :] = prob_prediction(X_test, w_ih_1, w_ih_2, w_ih_3, w_ih_4, \n",
    "#                                              b_h, w_ho, b_o).reshape(X_test.shape[0], 3)"
   ]
  },
  {
   "cell_type": "code",
   "execution_count": 18,
   "metadata": {},
   "outputs": [],
   "source": [
    "# Train and Test Predictions\n",
    "\n",
    "# vmap_args = (samples, random.split(rng_key_predict, ITER * CHAINS))\n",
    "# train_predictions = vmap(lambda samples, rng_key: predict(model, rng_key, samples, X_train))(*vmap_args)\n",
    "# test_predictions = vmap(lambda samples, rng_key: predict(model, rng_key, samples, X_test))(*vmap_args)\n",
    "\n",
    "# Re-assign probability predictions\n",
    "\n",
    "y_train_pred = s.train_predictions\n",
    "y_test_pred = s.test_predictions\n",
    "train_mean_probs = y_train_pred.mean(axis=0)\n",
    "test_mean_probs = y_test_pred.mean(axis=0)"
   ]
  },
  {
   "cell_type": "code",
   "execution_count": 19,
   "metadata": {},
   "outputs": [
    {
     "data": {
      "text/plain": [
       "(400000, 400, 3)"
      ]
     },
     "execution_count": 19,
     "metadata": {},
     "output_type": "execute_result"
    }
   ],
   "source": [
    "s.train_predictions.shape"
   ]
  },
  {
   "cell_type": "code",
   "execution_count": 20,
   "metadata": {},
   "outputs": [
    {
     "data": {
      "image/png": "[encoded data removed]",
      "text/plain": [
       "<Figure size 432x288 with 1 Axes>"
      ]
     },
     "metadata": {
      "needs_background": "light"
     },
     "output_type": "display_data"
    }
   ],
   "source": [
    "plt.plot(y_test_pred[994, :, :], \"o\");"
   ]
  },
  {
   "cell_type": "code",
   "execution_count": 21,
   "metadata": {},
   "outputs": [
    {
     "data": {
      "text/plain": [
       "(400,)"
      ]
     },
     "execution_count": 21,
     "metadata": {},
     "output_type": "execute_result"
    }
   ],
   "source": [
    "train_mean_probs[:, 0].flatten().shape"
   ]
  },
  {
   "cell_type": "code",
   "execution_count": 22,
   "metadata": {},
   "outputs": [
    {
     "data": {
      "text/plain": [
       "(400, 1)"
      ]
     },
     "execution_count": 22,
     "metadata": {},
     "output_type": "execute_result"
    }
   ],
   "source": [
    "np.argmax(train_mean_probs, axis=1).reshape(len(Y_train), 1).shape"
   ]
  },
  {
   "cell_type": "code",
   "execution_count": 23,
   "metadata": {},
   "outputs": [],
   "source": [
    "# Train and Test Predictions\n",
    "\n",
    "df_predictions_train = pd.DataFrame({\n",
    "    \n",
    "    \"X_V1\": X_train[:, 0].flatten(),\n",
    "    \"X_V2\": X_train[:, 1].flatten(),\n",
    "    \"X_V3\": X_train[:, 2].flatten(),\n",
    "    \"X_V4\": X_train[:, 3].flatten(),\n",
    "    \"targets\": Y_train.flatten(),\n",
    "    \"predicted\": np.argmax(train_mean_probs, axis=1),\n",
    "    \"mean_prob_1\": train_mean_probs[:, 0].flatten(),\n",
    "    \"mean_prob_2\": train_mean_probs[:, 1].flatten(),\n",
    "    \"mean_prob_3\": train_mean_probs[:, 2].flatten(),\n",
    "    \"label\": \"train\"\n",
    "})\n",
    "\n",
    "df_predictions_test = pd.DataFrame({\n",
    "    \n",
    "    \"X_V1\": X_test[:, 0].flatten(),\n",
    "    \"X_V2\": X_test[:, 1].flatten(),\n",
    "    \"X_V3\": X_test[:, 2].flatten(),\n",
    "    \"X_V4\": X_test[:, 3].flatten(),\n",
    "    \"targets\": Y_test.flatten(),\n",
    "    \"predicted\": np.argmax(test_mean_probs, axis=1),\n",
    "    \"mean_prob_1\": test_mean_probs[:, 0].flatten(),\n",
    "    \"mean_prob_2\": test_mean_probs[:, 1].flatten(),\n",
    "    \"mean_prob_3\": test_mean_probs[:, 2].flatten(),\n",
    "    \"label\": \"test\"\n",
    "\n",
    "})"
   ]
  },
  {
   "cell_type": "code",
   "execution_count": 24,
   "metadata": {},
   "outputs": [
    {
     "data": {
      "text/plain": [
       "14.000000000000002"
      ]
     },
     "execution_count": 24,
     "metadata": {},
     "output_type": "execute_result"
    }
   ],
   "source": [
    "error = (df_predictions_test.targets - df_predictions_test.predicted).abs()\n",
    "error[error > 1] = 1\n",
    "error.sum()/len(error)*100"
   ]
  },
  {
   "cell_type": "code",
   "execution_count": 25,
   "metadata": {},
   "outputs": [],
   "source": [
    "# Low-level parameters\n",
    "\n",
    "df_wih_1 = pd.DataFrame(samples['w_ih_1'].reshape(ITER*CHAINS, 8))\n",
    "df_wih_2 = pd.DataFrame(samples['w_ih_2'].reshape(ITER*CHAINS, 8))\n",
    "df_wih_3 = pd.DataFrame(samples['w_ih_3'].reshape(ITER*CHAINS, 8))\n",
    "df_wih_4 = pd.DataFrame(samples['w_ih_4'].reshape(ITER*CHAINS, 8))\n",
    "df_bh = pd.DataFrame(samples['b_h'].reshape(ITER*CHAINS, 8))\n",
    "df_who = pd.DataFrame(samples['w_ho'].reshape(ITER*CHAINS, 24))\n",
    "df_bo = pd.DataFrame(samples['b_o'].reshape(ITER*CHAINS, 3))\n",
    "\n",
    "# Rename columns\n",
    "\n",
    "df_wih_1.columns = [\"w_ih_1_\" + str(i) for i in range(0, 8)]\n",
    "df_wih_2.columns = [\"w_ih_2_\" + str(i) for i in range(0, 8)]\n",
    "df_wih_3.columns = [\"w_ih_3_\" + str(i) for i in range(0, 8)]\n",
    "df_wih_4.columns = [\"w_ih_4_\" + str(i) for i in range(0, 8)]\n",
    "df_bh.columns = [\"b_h_\" + str(i) for i in range(0, 8)]\n",
    "df_who.columns = [\"w_ho_\" + str(i) for i in range(0, 24)]\n",
    "df_bo.columns = [\"b_o_\" + str(i) for i in range(0, 3)]\n",
    "\n",
    "df_traces = pd.concat([df_wih_1, df_wih_2, df_wih_3, df_wih_4, \n",
    "                       df_bh, df_who, df_bo], ignore_index=False, axis=1)\n",
    "\n",
    "# High level parameters\n",
    "\n",
    "df_traces[\"W_prec_ih\"] = samples['w_ih_prec'].reshape(ITER*CHAINS,)\n",
    "df_traces[\"ard_prec_1\"] = samples['w_ih_prec_1'].reshape(ITER*CHAINS,)\n",
    "df_traces[\"ard_prec_2\"] = samples['w_ih_prec_2'].reshape(ITER*CHAINS,)\n",
    "df_traces[\"ard_prec_3\"] = samples['w_ih_prec_3'].reshape(ITER*CHAINS,)\n",
    "df_traces[\"ard_prec_4\"] = samples['w_ih_prec_4'].reshape(ITER*CHAINS,)\n",
    "df_traces[\"B_prec_h\"] = samples['b_h_prec'].reshape(ITER*CHAINS,)\n",
    "df_traces[\"W_prec_ho\"] = samples['w_ho_prec'].reshape(ITER*CHAINS,)\n",
    "df_traces[\"B_prec_o\"] = samples['b_o_prec'].reshape(ITER*CHAINS,)\n",
    "\n",
    "df_traces[\"trace\"] = 1\n",
    "df_traces[\"id\"] = df_traces.index\n",
    "df_traces[\"trace\"] = np.where(np.logical_and(df_traces[\"id\"] >= 0, df_traces[\"id\"] < ITER), 1, \n",
    "                                  np.where(np.logical_and(df_traces[\"id\"] >= ITER, df_traces[\"id\"] < 2*ITER), 2, \n",
    "                                      np.where(np.logical_and(df_traces[\"id\"] >= 2*ITER, df_traces[\"id\"] < 3*ITER), 3, \n",
    "                                              np.where(np.logical_and(df_traces[\"id\"] >= 3*ITER, df_traces[\"id\"] < 4*ITER), 4, 0))))"
   ]
  },
  {
   "cell_type": "code",
   "execution_count": 26,
   "metadata": {},
   "outputs": [],
   "source": [
    "df_traces.to_csv(f\"{new_dir}/df_traces.csv\", index=False)"
   ]
  },
  {
   "cell_type": "code",
   "execution_count": 27,
   "metadata": {},
   "outputs": [],
   "source": [
    "# Write results to disk\n",
    "\n",
    "df_traces.to_feather(f\"{new_dir}/df_traces.feather\")\n",
    "\n",
    "# Write predictions to disk\n",
    "\n",
    "df_predictions = pd.concat([df_predictions_train, df_predictions_test]).reset_index()\n",
    "df_predictions.drop(f\"index\", axis=1).to_feather(f\"{new_dir}/df_predictions.feather\")"
   ]
  },
  {
   "cell_type": "code",
   "execution_count": 28,
   "metadata": {},
   "outputs": [
    {
     "data": {
      "text/html": [
       "<div>\n",
       "<style scoped>\n",
       "    .dataframe tbody tr th:only-of-type {\n",
       "        vertical-align: middle;\n",
       "    }\n",
       "\n",
       "    .dataframe tbody tr th {\n",
       "        vertical-align: top;\n",
       "    }\n",
       "\n",
       "    .dataframe thead th {\n",
       "        text-align: right;\n",
       "    }\n",
       "</style>\n",
       "<table border=\"1\" class=\"dataframe\">\n",
       "  <thead>\n",
       "    <tr style=\"text-align: right;\">\n",
       "      <th></th>\n",
       "      <th>index</th>\n",
       "      <th>X_V1</th>\n",
       "      <th>X_V2</th>\n",
       "      <th>X_V3</th>\n",
       "      <th>X_V4</th>\n",
       "      <th>targets</th>\n",
       "      <th>predicted</th>\n",
       "      <th>mean_prob_1</th>\n",
       "      <th>mean_prob_2</th>\n",
       "      <th>mean_prob_3</th>\n",
       "      <th>label</th>\n",
       "    </tr>\n",
       "  </thead>\n",
       "  <tbody>\n",
       "    <tr>\n",
       "      <th>0</th>\n",
       "      <td>0</td>\n",
       "      <td>1.01767</td>\n",
       "      <td>0.14828</td>\n",
       "      <td>0.72678</td>\n",
       "      <td>0.67131</td>\n",
       "      <td>2</td>\n",
       "      <td>2</td>\n",
       "      <td>0.005346</td>\n",
       "      <td>0.000811</td>\n",
       "      <td>0.993844</td>\n",
       "      <td>train</td>\n",
       "    </tr>\n",
       "    <tr>\n",
       "      <th>1</th>\n",
       "      <td>1</td>\n",
       "      <td>0.20626</td>\n",
       "      <td>0.56059</td>\n",
       "      <td>1.06241</td>\n",
       "      <td>0.35419</td>\n",
       "      <td>0</td>\n",
       "      <td>0</td>\n",
       "      <td>0.941774</td>\n",
       "      <td>0.005124</td>\n",
       "      <td>0.053102</td>\n",
       "      <td>train</td>\n",
       "    </tr>\n",
       "    <tr>\n",
       "      <th>2</th>\n",
       "      <td>2</td>\n",
       "      <td>0.64368</td>\n",
       "      <td>0.73163</td>\n",
       "      <td>-0.01752</td>\n",
       "      <td>0.72006</td>\n",
       "      <td>2</td>\n",
       "      <td>2</td>\n",
       "      <td>0.347548</td>\n",
       "      <td>0.000635</td>\n",
       "      <td>0.651817</td>\n",
       "      <td>train</td>\n",
       "    </tr>\n",
       "    <tr>\n",
       "      <th>3</th>\n",
       "      <td>3</td>\n",
       "      <td>0.29599</td>\n",
       "      <td>0.80480</td>\n",
       "      <td>0.98394</td>\n",
       "      <td>0.96265</td>\n",
       "      <td>2</td>\n",
       "      <td>2</td>\n",
       "      <td>0.482704</td>\n",
       "      <td>0.001326</td>\n",
       "      <td>0.515969</td>\n",
       "      <td>train</td>\n",
       "    </tr>\n",
       "    <tr>\n",
       "      <th>4</th>\n",
       "      <td>4</td>\n",
       "      <td>0.59242</td>\n",
       "      <td>0.19243</td>\n",
       "      <td>0.84754</td>\n",
       "      <td>-0.01923</td>\n",
       "      <td>0</td>\n",
       "      <td>0</td>\n",
       "      <td>0.562218</td>\n",
       "      <td>0.089521</td>\n",
       "      <td>0.348261</td>\n",
       "      <td>train</td>\n",
       "    </tr>\n",
       "    <tr>\n",
       "      <th>...</th>\n",
       "      <td>...</td>\n",
       "      <td>...</td>\n",
       "      <td>...</td>\n",
       "      <td>...</td>\n",
       "      <td>...</td>\n",
       "      <td>...</td>\n",
       "      <td>...</td>\n",
       "      <td>...</td>\n",
       "      <td>...</td>\n",
       "      <td>...</td>\n",
       "      <td>...</td>\n",
       "    </tr>\n",
       "    <tr>\n",
       "      <th>995</th>\n",
       "      <td>595</td>\n",
       "      <td>0.40031</td>\n",
       "      <td>0.74484</td>\n",
       "      <td>0.72954</td>\n",
       "      <td>0.34342</td>\n",
       "      <td>0</td>\n",
       "      <td>0</td>\n",
       "      <td>0.802321</td>\n",
       "      <td>0.001273</td>\n",
       "      <td>0.196406</td>\n",
       "      <td>test</td>\n",
       "    </tr>\n",
       "    <tr>\n",
       "      <th>996</th>\n",
       "      <td>596</td>\n",
       "      <td>-0.09686</td>\n",
       "      <td>0.92962</td>\n",
       "      <td>0.26862</td>\n",
       "      <td>0.28471</td>\n",
       "      <td>2</td>\n",
       "      <td>2</td>\n",
       "      <td>0.045906</td>\n",
       "      <td>0.000952</td>\n",
       "      <td>0.953142</td>\n",
       "      <td>test</td>\n",
       "    </tr>\n",
       "    <tr>\n",
       "      <th>997</th>\n",
       "      <td>597</td>\n",
       "      <td>0.13543</td>\n",
       "      <td>0.19099</td>\n",
       "      <td>0.07629</td>\n",
       "      <td>0.69874</td>\n",
       "      <td>1</td>\n",
       "      <td>1</td>\n",
       "      <td>0.326307</td>\n",
       "      <td>0.658304</td>\n",
       "      <td>0.015388</td>\n",
       "      <td>test</td>\n",
       "    </tr>\n",
       "    <tr>\n",
       "      <th>998</th>\n",
       "      <td>598</td>\n",
       "      <td>0.66163</td>\n",
       "      <td>0.79395</td>\n",
       "      <td>0.02705</td>\n",
       "      <td>0.09072</td>\n",
       "      <td>0</td>\n",
       "      <td>2</td>\n",
       "      <td>0.203066</td>\n",
       "      <td>0.000468</td>\n",
       "      <td>0.796466</td>\n",
       "      <td>test</td>\n",
       "    </tr>\n",
       "    <tr>\n",
       "      <th>999</th>\n",
       "      <td>599</td>\n",
       "      <td>0.76248</td>\n",
       "      <td>0.90141</td>\n",
       "      <td>0.72679</td>\n",
       "      <td>-0.02767</td>\n",
       "      <td>2</td>\n",
       "      <td>2</td>\n",
       "      <td>0.021485</td>\n",
       "      <td>0.000114</td>\n",
       "      <td>0.978401</td>\n",
       "      <td>test</td>\n",
       "    </tr>\n",
       "  </tbody>\n",
       "</table>\n",
       "<p>1000 rows × 11 columns</p>\n",
       "</div>"
      ],
      "text/plain": [
       "     index     X_V1     X_V2     X_V3     X_V4  targets  predicted  \\\n",
       "0        0  1.01767  0.14828  0.72678  0.67131        2          2   \n",
       "1        1  0.20626  0.56059  1.06241  0.35419        0          0   \n",
       "2        2  0.64368  0.73163 -0.01752  0.72006        2          2   \n",
       "3        3  0.29599  0.80480  0.98394  0.96265        2          2   \n",
       "4        4  0.59242  0.19243  0.84754 -0.01923        0          0   \n",
       "..     ...      ...      ...      ...      ...      ...        ...   \n",
       "995    595  0.40031  0.74484  0.72954  0.34342        0          0   \n",
       "996    596 -0.09686  0.92962  0.26862  0.28471        2          2   \n",
       "997    597  0.13543  0.19099  0.07629  0.69874        1          1   \n",
       "998    598  0.66163  0.79395  0.02705  0.09072        0          2   \n",
       "999    599  0.76248  0.90141  0.72679 -0.02767        2          2   \n",
       "\n",
       "     mean_prob_1  mean_prob_2  mean_prob_3  label  \n",
       "0       0.005346     0.000811     0.993844  train  \n",
       "1       0.941774     0.005124     0.053102  train  \n",
       "2       0.347548     0.000635     0.651817  train  \n",
       "3       0.482704     0.001326     0.515969  train  \n",
       "4       0.562218     0.089521     0.348261  train  \n",
       "..           ...          ...          ...    ...  \n",
       "995     0.802321     0.001273     0.196406   test  \n",
       "996     0.045906     0.000952     0.953142   test  \n",
       "997     0.326307     0.658304     0.015388   test  \n",
       "998     0.203066     0.000468     0.796466   test  \n",
       "999     0.021485     0.000114     0.978401   test  \n",
       "\n",
       "[1000 rows x 11 columns]"
      ]
     },
     "execution_count": 28,
     "metadata": {},
     "output_type": "execute_result"
    }
   ],
   "source": [
    "df_predictions"
   ]
  },
  {
   "cell_type": "code",
   "execution_count": 29,
   "metadata": {},
   "outputs": [
    {
     "name": "stdout",
     "output_type": "stream",
     "text": [
      "../../output/multi_class/numpyro_c_2021_05_13_11_28_25\n"
     ]
    }
   ],
   "source": [
    "print(new_dir)"
   ]
  }
 ],
 "metadata": {
  "kernelspec": {
   "display_name": "Python 3",
   "language": "python",
   "name": "python3"
  },
  "language_info": {
   "codemirror_mode": {
    "name": "ipython",
    "version": 3
   },
   "file_extension": ".py",
   "mimetype": "text/x-python",
   "name": "python",
   "nbconvert_exporter": "python",
   "pygments_lexer": "ipython3",
   "version": "3.6.7"
  },
  "latex_envs": {
   "LaTeX_envs_menu_present": true,
   "autoclose": false,
   "autocomplete": true,
   "bibliofile": "biblio.bib",
   "cite_by": "apalike",
   "current_citInitial": 1,
   "eqLabelWithNumbers": true,
   "eqNumInitial": 1,
   "hotkeys": {
    "equation": "Ctrl-E",
    "itemize": "Ctrl-I"
   },
   "labels_anchors": false,
   "latex_user_defs": false,
   "report_style_numbering": false,
   "user_envs_cfg": false
  },
  "toc": {
   "base_numbering": 1,
   "nav_menu": {},
   "number_sections": true,
   "sideBar": true,
   "skip_h1_title": false,
   "title_cell": "Table of Contents",
   "title_sidebar": "Contents",
   "toc_cell": false,
   "toc_position": {},
   "toc_section_display": true,
   "toc_window_display": false
  }
 },
 "nbformat": 4,
 "nbformat_minor": 4
}
