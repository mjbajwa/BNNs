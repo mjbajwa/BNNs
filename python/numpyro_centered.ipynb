{
 "cells": [
  {
   "cell_type": "code",
   "execution_count": 1,
   "metadata": {},
   "outputs": [],
   "source": [
    "import os\n",
    "import datetime\n",
    "import matplotlib\n",
    "import matplotlib.pyplot as plt\n",
    "import numpy as np\n",
    "import pandas as pd\n",
    "from jax import vmap\n",
    "import jax.numpy as jnp\n",
    "import jax.random as random\n",
    "import numpyro\n",
    "from numpyro import handlers\n",
    "import numpyro.distributions as dist\n",
    "from numpyro.infer import MCMC, NUTS\n",
    "from tqdm import tqdm_notebook\n",
    "import plotly.graph_objects as go\n",
    "\n",
    "numpyro.util.set_rng_seed(0)\n",
    "numpyro.set_platform('cpu')\n",
    "numpyro.set_host_device_count(4)"
   ]
  },
  {
   "cell_type": "code",
   "execution_count": 2,
   "metadata": {},
   "outputs": [],
   "source": [
    "# Create folder for storing results\n",
    "\n",
    "time = datetime.datetime.now().strftime('%Y_%m_%d_%H_%M_%S')\n",
    "new_dir = os.path.join(\"../output/\", \"numpyro_c_\" + time)\n",
    "os.mkdir(new_dir)"
   ]
  },
  {
   "cell_type": "code",
   "execution_count": 3,
   "metadata": {},
   "outputs": [],
   "source": [
    "ITER = 200000\n",
    "CHAINS = 4"
   ]
  },
  {
   "cell_type": "code",
   "execution_count": 4,
   "metadata": {},
   "outputs": [],
   "source": [
    "def load_data():\n",
    "\n",
    "    # Load Data\n",
    "\n",
    "    df = pd.read_table(\"../data/rdata\", header=None, delim_whitespace=True)\n",
    "    df.columns = [\"X\", \"Y\"]\n",
    "    df[\"index\"] = np.where(df.index < 100, \"Train\", \"Test\")\n",
    "\n",
    "    # Create train and test\n",
    "\n",
    "    X_train = np.array(df.loc[df[\"index\"] == \"Train\", \"X\"]).reshape(-1, 1)\n",
    "    Y_train = np.array(df.loc[df[\"index\"] == \"Train\", \"Y\"])\n",
    "    X_test = np.array(df.loc[df[\"index\"] == \"Test\", \"X\"]).reshape(-1, 1)\n",
    "    Y_test = np.array(df.loc[df[\"index\"] == \"Test\", \"Y\"])\n",
    "\n",
    "    return X_train, X_test, Y_train, Y_test"
   ]
  },
  {
   "cell_type": "code",
   "execution_count": 5,
   "metadata": {},
   "outputs": [],
   "source": [
    "X_train, X_test, Y_train, Y_test = load_data()"
   ]
  },
  {
   "cell_type": "code",
   "execution_count": 6,
   "metadata": {},
   "outputs": [],
   "source": [
    "def model(x, y):\n",
    "    \n",
    "    # Hyperparameters\n",
    "    \n",
    "    w_ih_prec = numpyro.sample(\"w_ih_prec\", dist.Gamma(0.025, 0.000625))\n",
    "    b_h_prec = numpyro.sample(\"b_h_prec\", dist.Gamma(0.025, 0.000625))\n",
    "    w_ho_prec = numpyro.sample(\"w_ho_prec\", dist.Gamma(0.025, 0.000625))\n",
    "    y_prec = numpyro.sample(\"y_prec\", dist.Gamma(0.025, 0.000625))\n",
    "    \n",
    "    # Low Level Parameters\n",
    "\n",
    "    w_ih = numpyro.sample(\"w_ih\", dist.Normal(loc=jnp.zeros((1, 8)), scale=1/jnp.sqrt(w_ih_prec)))\n",
    "    b_h = numpyro.sample(\"b_h\", dist.Normal(loc=jnp.zeros((1, 8)), scale=1/jnp.sqrt(b_h_prec)))\n",
    "    w_ho = numpyro.sample(\"w_ho\", dist.Normal(loc=jnp.zeros((8, 1)), scale=1/jnp.sqrt(w_ho_prec)*1/jnp.sqrt(8)))\n",
    "    b_o = numpyro.sample(\"b_o\", dist.Normal(loc=jnp.zeros((1, 1)), scale=100))\n",
    "    \n",
    "    # Forward Pass\n",
    "\n",
    "    z1 = jnp.matmul(x, w_ih) + b_h\n",
    "    a1 = jnp.tanh(z1)\n",
    "    output = jnp.matmul(a1, w_ho) + b_o\n",
    "    \n",
    "    return numpyro.sample(\"y_pred\", dist.Normal(output, 1/jnp.sqrt(y_prec)), obs=y)"
   ]
  },
  {
   "cell_type": "code",
   "execution_count": 7,
   "metadata": {},
   "outputs": [
    {
     "name": "stdout",
     "output_type": "stream",
     "text": [
      "\n",
      "                 mean       std    median      5.0%     95.0%     n_eff     r_hat\n",
      "   b_h[0,0]      0.91      4.67      1.42     -6.55      6.43     37.60      1.05\n",
      "   b_h[0,1]      0.12      4.59      0.11     -6.68      6.50   4281.28      1.00\n",
      "   b_h[0,2]      0.87      7.02      1.29     -6.58      6.61    291.73      1.02\n",
      "   b_h[0,3]     -1.38      5.19     -1.38     -6.69      6.37     11.33      1.12\n",
      "   b_h[0,4]      1.40      5.11      1.33     -6.20      6.79      8.38      1.16\n",
      "   b_h[0,5]     -0.14      4.48     -0.35     -6.50      6.51   4065.05      1.00\n",
      "   b_h[0,6]      0.12      4.92     -0.28     -6.34      6.69   2096.41      1.00\n",
      "   b_h[0,7]      1.06      5.06      1.27     -6.60      6.48     15.80      1.09\n",
      "   b_h_prec      0.12      0.18      0.06      0.00      0.28     70.60      1.03\n",
      "   b_o[0,0]      2.89      4.76      1.18     -1.26     10.78      2.97      1.76\n",
      "  w_ho[0,0]     -1.91      4.17     -0.46     -9.44      1.41      2.72      1.99\n",
      "  w_ho[1,0]      0.86      2.14      0.46     -1.46      4.11      4.04      1.42\n",
      "  w_ho[2,0]     -4.84      9.00     -0.49    -21.89      1.30      2.33      2.79\n",
      "  w_ho[3,0]      3.48      6.74      0.44     -1.50     16.39      2.41      2.65\n",
      "  w_ho[4,0]      2.92      5.60      0.49     -1.44     13.21      2.45      2.46\n",
      "  w_ho[5,0]     -0.27      1.70     -0.46     -2.22      2.27     49.82      1.05\n",
      "  w_ho[6,0]     -1.59      3.50     -0.43     -8.11      1.47      2.81      1.99\n",
      "  w_ho[7,0]      4.59      8.83      0.45     -1.38     20.98      2.37      2.71\n",
      "  w_ho_prec      0.16      0.24      0.06      0.00      0.44     17.61      1.07\n",
      "  w_ih[0,0]     -0.07      2.14     -0.16     -3.27      3.27  11687.87      1.00\n",
      "  w_ih[0,1]      0.29      2.20      0.98     -3.21      3.32     70.22      1.03\n",
      "  w_ih[0,2]     -0.19      2.23     -0.70     -3.31      3.29   2177.35      1.01\n",
      "  w_ih[0,3]      0.01      2.18     -0.01     -3.31      3.28  10303.38      1.00\n",
      "  w_ih[0,4]      0.04      2.31      0.02     -3.27      3.32   4539.98      1.00\n",
      "  w_ih[0,5]      0.01      2.23     -0.06     -3.27      3.31   5886.86      1.00\n",
      "  w_ih[0,6]      0.08      2.25      0.43     -3.29      3.31   8680.34      1.00\n",
      "  w_ih[0,7]      0.31      2.30      0.96     -3.30      3.26     45.88      1.04\n",
      "  w_ih_prec      0.88      1.04      0.34      0.00      2.65      3.12      1.79\n",
      "     y_prec    123.16     20.56    121.44     88.16    157.35     25.44      1.07\n",
      "\n",
      "Number of divergences: 195270\n"
     ]
    }
   ],
   "source": [
    "rng_key = random.PRNGKey(42)\n",
    "rng_key, rng_key_predict = random.split(rng_key)\n",
    "\n",
    "nuts_kernel = NUTS(model, adapt_mass_matrix=False)\n",
    "\n",
    "mcmc = MCMC(nuts_kernel,\n",
    "            num_samples=ITER,\n",
    "            num_warmup=1000,\n",
    "            num_chains=4,\n",
    "            progress_bar=False if \"NUMPYRO_SPHINXBUILD\" in os.environ else True)\n",
    "\n",
    "mcmc.run(rng_key,\n",
    "         jnp.array(X_train.reshape((len(Y_train), 1))), \n",
    "         jnp.array(Y_train.reshape((len(Y_train), 1))))\n",
    "\n",
    "mcmc.print_summary()\n",
    "\n",
    "samples = mcmc.get_samples()"
   ]
  },
  {
   "cell_type": "code",
   "execution_count": 15,
   "metadata": {},
   "outputs": [
    {
     "data": {
      "text/plain": [
       "[<matplotlib.lines.Line2D at 0x7f21683cccf8>]"
      ]
     },
     "execution_count": 15,
     "metadata": {},
     "output_type": "execute_result"
    },
    {
     "data": {
      "image/png": "[encoded data removed]",
      "text/plain": [
       "<Figure size 1080x720 with 1 Axes>"
      ]
     },
     "metadata": {
      "needs_background": "light"
     },
     "output_type": "display_data"
    }
   ],
   "source": [
    "plt.figure(figsize = (15,10))\n",
    "plt.plot(1/jnp.sqrt(samples[\"w_ho_prec\"]), \"ko\", markersize=2)"
   ]
  },
  {
   "cell_type": "code",
   "execution_count": 9,
   "metadata": {},
   "outputs": [],
   "source": [
    "# TODO: can we make this more like tf_probability? The vmap function speeds it up.\n",
    "\n",
    "def predict(model, rng_key, samples, X):\n",
    "    \n",
    "    model = handlers.substitute(handlers.seed(model, rng_key), samples)\n",
    "    \n",
    "    # note that Y will be sampled in the model because we pass Y=None here\n",
    "    \n",
    "    model_trace = handlers.trace(model).get_trace(x=X, y=None)\n",
    "    \n",
    "    return model_trace['y_pred']['value']"
   ]
  },
  {
   "cell_type": "code",
   "execution_count": 10,
   "metadata": {},
   "outputs": [],
   "source": [
    "# # Train and Test Predictions\n",
    "\n",
    "# vmap_args = (samples, random.split(rng_key_predict, ITER * CHAINS))\n",
    "# train_predictions = vmap(lambda samples, rng_key: predict(model, rng_key, samples, X_train))(*vmap_args)\n",
    "# test_predictions = vmap(lambda samples, rng_key: predict(model, rng_key, samples, X_test))(*vmap_args)\n",
    "# y_train_pred = train_predictions[..., 0]\n",
    "# y_test_pred = test_predictions[..., 0]\n",
    "\n",
    "# df_predictions_train = pd.DataFrame({\n",
    "    \n",
    "#     \"inputs\": X_train.flatten(),\n",
    "#     \"targets\": Y_train.flatten(),\n",
    "#     \"mean\": y_train_pred[100:, :].mean(axis=0),\n",
    "#     \"median\": np.quantile(y_train_pred, 0.5, axis=0),\n",
    "#     \"q1\": np.quantile(y_train_pred, 0.01, axis=0),\n",
    "#     \"q10\": np.quantile(y_train_pred, 0.10, axis=0),\n",
    "#     \"q90\": np.quantile(y_train_pred, 0.90, axis=0),\n",
    "#     \"q99\": np.quantile(y_train_pred, 0.99, axis=0),\n",
    "#     \"label\": \"train\"\n",
    "\n",
    "# })\n",
    "\n",
    "# df_predictions_test = pd.DataFrame({\n",
    "    \n",
    "#     \"inputs\": X_test.flatten(),\n",
    "#     \"targets\": Y_test.flatten(),\n",
    "#     \"mean\": y_test_pred.mean(axis=0),\n",
    "#     \"median\": np.quantile(y_test_pred, 0.5, axis=0),\n",
    "#     \"q1\": np.quantile(y_test_pred, 0.01, axis=0),\n",
    "#     \"q10\": np.quantile(y_test_pred, 0.10, axis=0),\n",
    "#     \"q90\": np.quantile(y_test_pred, 0.90, axis=0),\n",
    "#     \"q99\": np.quantile(y_test_pred, 0.99, axis=0),\n",
    "#     \"label\": \"test\"\n",
    "\n",
    "# })\n",
    "\n",
    "# df = df_predictions_train.copy(deep=True)\n",
    "# df = df.sort_values(\"inputs\").reset_index()\n",
    "\n",
    "# fig = go.Figure([\n",
    "#     go.Scatter(\n",
    "#         name='median',\n",
    "#         x=df['inputs'],\n",
    "#         y=df['median'],\n",
    "#         mode='lines',\n",
    "#         line=dict(color='rgb(31, 119, 180)'),\n",
    "#     ),\n",
    "#     go.Scatter(\n",
    "#         name='Upper Bound',\n",
    "#         x=df['inputs'],\n",
    "#         y=df['q1'],\n",
    "#         mode='lines',\n",
    "#         marker=dict(color=\"#444\"),\n",
    "#         line=dict(width=0),\n",
    "#         showlegend=False\n",
    "#     ),\n",
    "#     go.Scatter(\n",
    "#         name='Lower Bound',\n",
    "#         x=df['inputs'],\n",
    "#         y=df['q99'],\n",
    "#         marker=dict(color=\"#444\"),\n",
    "#         line=dict(width=0),\n",
    "#         mode='lines',\n",
    "#         fillcolor='rgba(68, 68, 68, 0.3)',\n",
    "#         fill='tonexty',\n",
    "#         showlegend=False\n",
    "#     )\n",
    "# ])\n",
    "\n",
    "# fig.add_scatter(x=df['inputs'], y=df['targets'], mode=\"markers\")\n",
    "\n",
    "# fig.update_layout(\n",
    "#     yaxis_title='Y',\n",
    "#     title='Training Set',\n",
    "#     hovermode=\"x\"\n",
    "# )\n",
    "# fig.show()"
   ]
  },
  {
   "cell_type": "code",
   "execution_count": 11,
   "metadata": {},
   "outputs": [],
   "source": [
    "# df = df_predictions_test.copy(deep=True)\n",
    "# df = df.sort_values(\"inputs\").reset_index()\n",
    "\n",
    "# fig = go.Figure([\n",
    "#     go.Scatter(\n",
    "#         name='median',\n",
    "#         x=df['inputs'],\n",
    "#         y=df['median'],\n",
    "#         mode='lines',\n",
    "#         line=dict(color='rgb(31, 119, 180)'),\n",
    "#     ),\n",
    "#     go.Scatter(\n",
    "#         name='Upper Bound',\n",
    "#         x=df['inputs'],\n",
    "#         y=df['q1'],\n",
    "#         mode='lines',\n",
    "#         marker=dict(color=\"#444\"),\n",
    "#         line=dict(width=0),\n",
    "#         showlegend=False\n",
    "#     ),\n",
    "#     go.Scatter(\n",
    "#         name='Lower Bound',\n",
    "#         x=df['inputs'],\n",
    "#         y=df['q99'],\n",
    "#         marker=dict(color=\"#444\"),\n",
    "#         line=dict(width=0),\n",
    "#         mode='lines',\n",
    "#         fillcolor='rgba(68, 68, 68, 0.3)',\n",
    "#         fill='tonexty',\n",
    "#         showlegend=False\n",
    "#     )\n",
    "# ])\n",
    "\n",
    "# fig.add_scatter(x=df['inputs'], y=df['targets'], mode=\"markers\")\n",
    "\n",
    "# fig.update_layout(\n",
    "#     yaxis_title='Y',\n",
    "#     title='Training Set',\n",
    "#     hovermode=\"x\"\n",
    "# )\n",
    "# fig.show()"
   ]
  },
  {
   "cell_type": "code",
   "execution_count": 12,
   "metadata": {},
   "outputs": [],
   "source": [
    "# Low-level parameters\n",
    "\n",
    "df_wih = pd.DataFrame(samples['w_ih'].reshape(ITER*CHAINS, 8))\n",
    "df_bh = pd.DataFrame(samples['b_h'].reshape(ITER*CHAINS, 8))\n",
    "df_who = pd.DataFrame(samples['w_ho'].reshape(ITER*CHAINS, 8))\n",
    "df_bo = pd.DataFrame(samples['b_o'].reshape(ITER*CHAINS, 1))\n",
    "\n",
    "df_wih.columns = [\"w_ih_\" + str(i) for i in range(0,8)]\n",
    "df_bh.columns = [\"b_h_\" + str(i) for i in range(0, 8)]\n",
    "df_who.columns = [\"w_ho_\" + str(i) for i in range(0, 8)]\n",
    "df_bo.columns = [\"b_o_\" + str(i) for i in range(1, 2)]\n",
    "\n",
    "df_traces = pd.concat([df_wih, df_bh, df_who, df_bo], ignore_index=False, axis=1)\n",
    "\n",
    "# High level parameters\n",
    "\n",
    "df_traces[\"W_prec_ih\"] = samples['w_ih_prec'].reshape(ITER*CHAINS,)\n",
    "df_traces[\"B_prec_h\"] = samples['b_h_prec'].reshape(ITER*CHAINS,)\n",
    "df_traces[\"W_prec_ho\"] = samples['w_ho_prec'].reshape(ITER*CHAINS,)\n",
    "df_traces[\"y_prec\"] = samples['y_prec'].reshape(ITER*CHAINS,)\n",
    "df_traces[\"trace\"] = 1\n",
    "\n",
    "df_traces[\"id\"] = df_traces.index\n",
    "\n",
    "df_traces[\"trace\"] = np.where(np.logical_and(df_traces[\"id\"] >= 0, df_traces[\"id\"] < ITER), 1, \n",
    "                                  np.where(np.logical_and(df_traces[\"id\"] >= ITER, df_traces[\"id\"] < 2*ITER), 2, \n",
    "                                      np.where(np.logical_and(df_traces[\"id\"] >= 2*ITER, df_traces[\"id\"] < 3*ITER), 3, \n",
    "                                              np.where(np.logical_and(df_traces[\"id\"] >= 3*ITER, df_traces[\"id\"] < 4*ITER), 4, 0))))"
   ]
  },
  {
   "cell_type": "code",
   "execution_count": 13,
   "metadata": {},
   "outputs": [],
   "source": [
    "# Write results to disk\n",
    "\n",
    "df_traces.to_feather(f\"{new_dir}/df_traces.feather\")\n",
    "\n",
    "# Write predictions to disk\n",
    "\n",
    "# df_predictions = pd.concat([df_predictions_train, df_predictions_test]).reset_index()\n",
    "# df_predictions.drop(f\"index\", axis=1).to_feather(f\"{new_dir}/df_predictions.feather\")"
   ]
  },
  {
   "cell_type": "code",
   "execution_count": 14,
   "metadata": {},
   "outputs": [
    {
     "name": "stdout",
     "output_type": "stream",
     "text": [
      "../output/numpyro_c_2021_03_21_15_46_28\n"
     ]
    }
   ],
   "source": [
    "print(new_dir)"
   ]
  }
 ],
 "metadata": {
  "kernelspec": {
   "display_name": "Python 3",
   "language": "python",
   "name": "python3"
  },
  "language_info": {
   "codemirror_mode": {
    "name": "ipython",
    "version": 3
   },
   "file_extension": ".py",
   "mimetype": "text/x-python",
   "name": "python",
   "nbconvert_exporter": "python",
   "pygments_lexer": "ipython3",
   "version": "3.6.7"
  },
  "latex_envs": {
   "LaTeX_envs_menu_present": true,
   "autoclose": false,
   "autocomplete": true,
   "bibliofile": "biblio.bib",
   "cite_by": "apalike",
   "current_citInitial": 1,
   "eqLabelWithNumbers": true,
   "eqNumInitial": 1,
   "hotkeys": {
    "equation": "Ctrl-E",
    "itemize": "Ctrl-I"
   },
   "labels_anchors": false,
   "latex_user_defs": false,
   "report_style_numbering": false,
   "user_envs_cfg": false
  },
  "toc": {
   "base_numbering": 1,
   "nav_menu": {},
   "number_sections": true,
   "sideBar": true,
   "skip_h1_title": false,
   "title_cell": "Table of Contents",
   "title_sidebar": "Contents",
   "toc_cell": false,
   "toc_position": {},
   "toc_section_display": true,
   "toc_window_display": false
  }
 },
 "nbformat": 4,
 "nbformat_minor": 4
}
