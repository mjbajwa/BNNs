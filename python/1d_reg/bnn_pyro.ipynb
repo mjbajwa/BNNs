{
 "cells": [
  {
   "cell_type": "code",
   "execution_count": 1,
   "metadata": {},
   "outputs": [
    {
     "name": "stderr",
     "output_type": "stream",
     "text": [
      "/home/mjbajwa/anaconda3/lib/python3.6/importlib/_bootstrap.py:219: RuntimeWarning: numpy.ufunc size changed, may indicate binary incompatibility. Expected 192 from C header, got 216 from PyObject\n",
      "  return f(*args, **kwds)\n",
      "/home/mjbajwa/anaconda3/lib/python3.6/importlib/_bootstrap.py:219: RuntimeWarning: numpy.ufunc size changed, may indicate binary incompatibility. Expected 192 from C header, got 216 from PyObject\n",
      "  return f(*args, **kwds)\n"
     ]
    }
   ],
   "source": [
    "import pandas as pd\n",
    "import numpy as np\n",
    "import data\n",
    "import torch\n",
    "import pyro\n",
    "import pyro.distributions as dist\n",
    "import pyro.poutine as poutine\n",
    "from pyro.infer import MCMC, NUTS, HMC\n",
    "import matplotlib.pyplot as plt\n",
    "\n",
    "pyro.set_rng_seed(0)"
   ]
  },
  {
   "cell_type": "code",
   "execution_count": 2,
   "metadata": {},
   "outputs": [],
   "source": [
    "def load_data():\n",
    "\n",
    "    # Load Data\n",
    "\n",
    "    df = pd.read_table(\"./data/rdata\", header=None, delim_whitespace=True)\n",
    "    df.columns = [\"X\", \"Y\"]\n",
    "    df[\"index\"] = np.where(df.index < 100, \"Train\", \"Test\")\n",
    "\n",
    "    # Create train and test\n",
    "\n",
    "    X_train = np.array(df.loc[df[\"index\"] == \"Train\", \"X\"]).reshape(-1, 1)\n",
    "    Y_train = np.array(df.loc[df[\"index\"] == \"Train\", \"Y\"])\n",
    "    X_test = np.array(df.loc[df[\"index\"] == \"Test\", \"X\"]).reshape(-1, 1)\n",
    "    Y_test = np.array(df.loc[df[\"index\"] == \"Test\", \"Y\"])\n",
    "\n",
    "    return X_train, X_test, Y_train, Y_test"
   ]
  },
  {
   "cell_type": "code",
   "execution_count": 3,
   "metadata": {},
   "outputs": [],
   "source": [
    "X_train, X_test, Y_train, Y_test = load_data()"
   ]
  },
  {
   "cell_type": "code",
   "execution_count": 4,
   "metadata": {},
   "outputs": [],
   "source": [
    "def bnn_forward(x, w_ih, b_h, w_ho, b_o):\n",
    "    \n",
    "    z1 = torch.mm(x, w_ih) + b_h\n",
    "    a1 = torch.tanh(z1)\n",
    "    output = torch.mm(a1, w_ho) + b_o\n",
    "    \n",
    "    return output"
   ]
  },
  {
   "cell_type": "code",
   "execution_count": 6,
   "metadata": {},
   "outputs": [],
   "source": [
    "def model(x):\n",
    "    \n",
    "    # Hyperparameters\n",
    "    \n",
    "    w_ih_prec = pyro.sample(\"w_ih_prec\", dist.Gamma(0.025, 0.000625))\n",
    "    b_h_prec = pyro.sample(\"b_h_prec\", dist.Gamma(0.025, 0.000625))\n",
    "    w_ho_prec = pyro.sample(\"w_ho_prec\", dist.Gamma(0.025, 0.000625))\n",
    "    y_prec = pyro.sample(\"y_prec\", dist.Normal(0.025, 0.000625))\n",
    "    \n",
    "    # Low Level Parameters\n",
    "\n",
    "    w_ih = pyro.sample(\"w_ih\", dist.Normal(loc=torch.zeros((1, 8)), scale=1/torch.sqrt(w_ih_prec)))\n",
    "    b_h = pyro.sample(\"b_h\", dist.Normal(loc=torch.zeros((1, 8)), scale=1/torch.sqrt(b_h_prec)))\n",
    "    w_ho = pyro.sample(\"w_ho\", dist.Normal(loc=torch.zeros((8, 1)), scale=1/torch.sqrt(w_ho_prec)*1/np.sqrt(8)))\n",
    "    b_o = pyro.sample(\"b_o\", dist.Normal(loc=torch.zeros((1, 1)), scale=100))\n",
    "    \n",
    "    # Forward Pass\n",
    "\n",
    "    z1 = torch.mm(x, w_ih) + b_h\n",
    "    a1 = torch.tanh(z1)\n",
    "    output = torch.mm(a1, w_ho) + b_o\n",
    "    \n",
    "    return pyro.sample(\"y_pred\", dist.Normal(output, 1/torch.sqrt(y_prec)))\n",
    "\n",
    "\n",
    "def conditioned_model(model, x, y):\n",
    "    return poutine.condition(model, data={\"y_pred\": y})(x)"
   ]
  },
  {
   "cell_type": "code",
   "execution_count": null,
   "metadata": {},
   "outputs": [
    {
     "name": "stderr",
     "output_type": "stream",
     "text": [
      "Warmup:   0%|          | 0/20500 [00:00, ?it/s]/home/mjbajwa/anaconda3/lib/python3.6/site-packages/torch/autograd/__init__.py:225: UserWarning: CUDA initialization: The NVIDIA driver on your system is too old (found version 9010). Please update your GPU driver by downloading and installing a new version from the URL: http://www.nvidia.com/Download/index.aspx Alternatively, go to: https://pytorch.org to install a PyTorch version that has been compiled with your version of the CUDA driver. (Triggered internally at  /pytorch/c10/cuda/CUDAFunctions.cpp:109.)\n",
      "  inputs, allow_unused, accumulate_grad=False)\n",
      "/home/mjbajwa/anaconda3/lib/python3.6/site-packages/torch/distributions/utils.py:38: TracerWarning: torch.tensor results are registered as constants in the trace. You can safely ignore this warning if you use this function to create tensors out of constant variables that would be the same every time you call this function. In any other case, this might cause the trace to be incorrect.\n",
      "  for v in values]\n",
      "/home/mjbajwa/anaconda3/lib/python3.6/site-packages/torch/distributions/utils.py:38: TracerWarning: torch.tensor results are registered as constants in the trace. You can safely ignore this warning if you use this function to create tensors out of constant variables that would be the same every time you call this function. In any other case, this might cause the trace to be incorrect.\n",
      "  for v in values]\n",
      "/home/mjbajwa/anaconda3/lib/python3.6/site-packages/torch/distributions/utils.py:38: TracerWarning: torch.tensor results are registered as constants in the trace. You can safely ignore this warning if you use this function to create tensors out of constant variables that would be the same every time you call this function. In any other case, this might cause the trace to be incorrect.\n",
      "  for v in values]\n",
      "/home/mjbajwa/anaconda3/lib/python3.6/site-packages/torch/distributions/utils.py:38: TracerWarning: torch.tensor results are registered as constants in the trace. You can safely ignore this warning if you use this function to create tensors out of constant variables that would be the same every time you call this function. In any other case, this might cause the trace to be incorrect.\n",
      "  for v in values]\n",
      "/home/mjbajwa/anaconda3/lib/python3.6/site-packages/torch/distributions/utils.py:38: TracerWarning: torch.tensor results are registered as constants in the trace. You can safely ignore this warning if you use this function to create tensors out of constant variables that would be the same every time you call this function. In any other case, this might cause the trace to be incorrect.\n",
      "  for v in values]\n",
      "/home/mjbajwa/anaconda3/lib/python3.6/site-packages/torch/distributions/gamma.py:66: TracerWarning: torch.as_tensor results are registered as constants in the trace. You can safely ignore this warning if you use this function to create tensors out of constant variables that would be the same every time you call this function. In any other case, this might cause the trace to be incorrect.\n",
      "  value = torch.as_tensor(value, dtype=self.rate.dtype, device=self.rate.device)\n"
     ]
    }
   ],
   "source": [
    "nuts_kernel = NUTS(conditioned_model, jit_compile=True)\n",
    "hmc_kernel = HMC(conditioned_model, jit_compile=True, num_steps=1024)\n",
    "\n",
    "mcmc = MCMC(hmc_kernel,\n",
    "            num_samples=20000,\n",
    "            warmup_steps=500,\n",
    "            num_chains=1)\n",
    "\n",
    "mcmc.run(model, \n",
    "         torch.tensor(X_train).float(), \n",
    "         torch.tensor(Y_train).float())\n",
    "\n",
    "mcmc.summary()"
   ]
  },
  {
   "cell_type": "code",
   "execution_count": 27,
   "metadata": {},
   "outputs": [
    {
     "data": {
      "text/plain": [
       "[<matplotlib.lines.Line2D at 0x7f097ec30e80>]"
      ]
     },
     "execution_count": 27,
     "metadata": {},
     "output_type": "execute_result"
    },
    {
     "data": {
      "image/png": "[encoded data removed]",
      "text/plain": [
       "<Figure size 432x288 with 1 Axes>"
      ]
     },
     "metadata": {
      "needs_background": "light"
     },
     "output_type": "display_data"
    }
   ],
   "source": [
    "samples = mcmc.get_samples()\n",
    "plt.plot(1/torch.sqrt(samples[\"w_ho_prec\"]), \"ko\", markersize=1)"
   ]
  },
  {
   "cell_type": "code",
   "execution_count": null,
   "metadata": {},
   "outputs": [],
   "source": [
    "plt.plot(samples[\"w_ih_prec\"], \"ko\", markersize=2)"
   ]
  }
 ],
 "metadata": {
  "kernelspec": {
   "display_name": "Python 3",
   "language": "python",
   "name": "python3"
  },
  "language_info": {
   "codemirror_mode": {
    "name": "ipython",
    "version": 3
   },
   "file_extension": ".py",
   "mimetype": "text/x-python",
   "name": "python",
   "nbconvert_exporter": "python",
   "pygments_lexer": "ipython3",
   "version": "3.6.7"
  },
  "latex_envs": {
   "LaTeX_envs_menu_present": true,
   "autoclose": false,
   "autocomplete": true,
   "bibliofile": "biblio.bib",
   "cite_by": "apalike",
   "current_citInitial": 1,
   "eqLabelWithNumbers": true,
   "eqNumInitial": 1,
   "hotkeys": {
    "equation": "Ctrl-E",
    "itemize": "Ctrl-I"
   },
   "labels_anchors": false,
   "latex_user_defs": false,
   "report_style_numbering": false,
   "user_envs_cfg": false
  },
  "toc": {
   "base_numbering": 1,
   "nav_menu": {},
   "number_sections": true,
   "sideBar": true,
   "skip_h1_title": false,
   "title_cell": "Table of Contents",
   "title_sidebar": "Contents",
   "toc_cell": false,
   "toc_position": {},
   "toc_section_display": true,
   "toc_window_display": false
  }
 },
 "nbformat": 4,
 "nbformat_minor": 4
}
