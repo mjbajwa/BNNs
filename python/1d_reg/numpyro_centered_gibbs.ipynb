{
 "cells": [
  {
   "cell_type": "code",
   "execution_count": 1,
   "metadata": {},
   "outputs": [],
   "source": [
    "import os\n",
    "import datetime\n",
    "import matplotlib\n",
    "import matplotlib.pyplot as plt\n",
    "import numpy as np\n",
    "import pandas as pd\n",
    "from jax import vmap\n",
    "import jax.numpy as jnp\n",
    "import jax.random as random\n",
    "import numpyro\n",
    "from numpyro import handlers\n",
    "import numpyro.distributions as dist\n",
    "from numpyro.infer import MCMC, NUTS, HMCGibbs\n",
    "from tqdm import tqdm_notebook\n",
    "import plotly.graph_objects as go\n",
    "from numpyro.infer.initialization import init_to_value\n",
    "\n",
    "numpyro.util.set_rng_seed(0)\n",
    "numpyro.set_platform('cpu')\n",
    "numpyro.set_host_device_count(4)"
   ]
  },
  {
   "cell_type": "code",
   "execution_count": 2,
   "metadata": {},
   "outputs": [],
   "source": [
    "# Create folder for storing results\n",
    "\n",
    "time = datetime.datetime.now().strftime('%Y_%m_%d_%H_%M_%S')\n",
    "new_dir = os.path.join(\"../../output/1d_reg/\", \"numpyro_c_\" + time)\n",
    "os.mkdir(new_dir)"
   ]
  },
  {
   "cell_type": "code",
   "execution_count": 3,
   "metadata": {},
   "outputs": [],
   "source": [
    "ITER = 50000\n",
    "CHAINS = 4"
   ]
  },
  {
   "cell_type": "code",
   "execution_count": 4,
   "metadata": {},
   "outputs": [],
   "source": [
    "def load_data():\n",
    "\n",
    "    # Load Data\n",
    "\n",
    "    df = pd.read_table(\"../../data/rdata\", header=None, delim_whitespace=True)\n",
    "    df.columns = [\"X\", \"Y\"]\n",
    "    df[\"index\"] = np.where(df.index < 100, \"Train\", \"Test\")\n",
    "\n",
    "    # Create train and test\n",
    "\n",
    "    X_train = np.array(df.loc[df[\"index\"] == \"Train\", \"X\"]).reshape(-1, 1)\n",
    "    Y_train = np.array(df.loc[df[\"index\"] == \"Train\", \"Y\"])\n",
    "    X_test = np.array(df.loc[df[\"index\"] == \"Test\", \"X\"]).reshape(-1, 1)\n",
    "    Y_test = np.array(df.loc[df[\"index\"] == \"Test\", \"Y\"])\n",
    "\n",
    "    return X_train, X_test, Y_train, Y_test"
   ]
  },
  {
   "cell_type": "code",
   "execution_count": 5,
   "metadata": {},
   "outputs": [],
   "source": [
    "X_train, X_test, Y_train, Y_test = load_data()\n",
    "_X_train = jnp.array(X_train.reshape((len(Y_train), 1)))\n",
    "_Y_train = jnp.array(Y_train.reshape((len(Y_train), 1)))"
   ]
  },
  {
   "cell_type": "code",
   "execution_count": 6,
   "metadata": {},
   "outputs": [],
   "source": [
    "def model(x, y):\n",
    "    \n",
    "    # Hyperparameters\n",
    "    \n",
    "    w_ih_prec = numpyro.sample(\"w_ih_prec\", dist.Gamma(0.25, 0.000625))\n",
    "    b_h_prec = numpyro.sample(\"b_h_prec\", dist.Gamma(0.25, 0.000625))\n",
    "    w_ho_prec = numpyro.sample(\"w_ho_prec\", dist.Gamma(0.25, 7.8125e-05))\n",
    "    y_prec = numpyro.sample(\"y_prec\", dist.Gamma(0.25, 0.000625))\n",
    "    \n",
    "    # Low Level Parameters\n",
    "\n",
    "    w_ih = numpyro.sample(\"w_ih\", dist.Normal(loc=jnp.zeros((1, 8)), scale=1/jnp.sqrt(w_ih_prec)))\n",
    "    b_h = numpyro.sample(\"b_h\", dist.Normal(loc=jnp.zeros((1, 8)), scale=1/jnp.sqrt(b_h_prec)))\n",
    "    w_ho = numpyro.sample(\"w_ho\", dist.Normal(loc=jnp.zeros((8, 1)), scale=1/jnp.sqrt(w_ho_prec)))\n",
    "    b_o = numpyro.sample(\"b_o\", dist.Normal(loc=jnp.zeros((1, 1)), scale=100))\n",
    "    \n",
    "    # Forward Pass\n",
    "\n",
    "    z1 = jnp.matmul(x, w_ih) + b_h\n",
    "    a1 = jnp.tanh(z1)\n",
    "    output = jnp.matmul(a1, w_ho) + b_o\n",
    "    \n",
    "    return numpyro.sample(\"y_pred\", dist.Normal(output, 1/jnp.sqrt(y_prec)), obs=y)"
   ]
  },
  {
   "cell_type": "code",
   "execution_count": 7,
   "metadata": {},
   "outputs": [
    {
     "data": {
      "text/plain": [
       "(0.25, 7.812500000000002e-05)"
      ]
     },
     "execution_count": 7,
     "metadata": {},
     "output_type": "execute_result"
    }
   ],
   "source": [
    "def fbm_gamma_params_to_stan(fbm_width, fbm_alpha, N=1.):\n",
    "\n",
    "    mean_precision = (N) / (fbm_width ** 2)\n",
    "\n",
    "    # Convert to Stan parametrization\n",
    "\n",
    "    gamma_alpha = fbm_alpha / 2\n",
    "    gamma_beta = gamma_alpha / mean_precision\n",
    "\n",
    "    return gamma_alpha, gamma_beta\n",
    "\n",
    "fbm_gamma_params_to_stan(0.05, 0.5, 8)"
   ]
  },
  {
   "cell_type": "code",
   "execution_count": 8,
   "metadata": {},
   "outputs": [],
   "source": [
    "def gibbs_fn(rng_key, gibbs_sites, hmc_sites):\n",
    "    \n",
    "    \"\"\"\n",
    "    Condition probablities for the precision of each group\n",
    "    P(precision | parameters) = Gamma(alpha, beta)\n",
    "    Check alpha, beta calculations\n",
    "    \"\"\"\n",
    "    \n",
    "    # w_ih_prec\n",
    "    \n",
    "    w_ih = hmc_sites['w_ih']\n",
    "    alpha_ih = (0.5 + 8)/2\n",
    "    beta_ih = 0.5*((0.5*(0.05**2)) + jnp.sum(jnp.square(w_ih)))\n",
    "    new_w_ih_prec = dist.Gamma(alpha_ih, beta_ih).sample(rng_key)\n",
    "    \n",
    "    # b_h_prec\n",
    "    \n",
    "    b_h = hmc_sites['b_h']\n",
    "    alpha_h = (0.5 + 8)/2\n",
    "    beta_h = 0.5*((0.5*(0.05**2)) + jnp.sum(jnp.square(b_h)))\n",
    "    new_b_h_prec = dist.Gamma(alpha_h, beta_h).sample(rng_key)\n",
    "    \n",
    "    # w_ho_prec\n",
    "    \n",
    "    w_ho = hmc_sites['w_ho']\n",
    "    alpha_ho = (0.5 + 8)/2\n",
    "    beta_ho = 0.5*((0.5*(0.05**2)/8) + jnp.sum(jnp.square(w_ho)))\n",
    "    new_w_ho_prec = dist.Gamma(alpha_ho, beta_ho).sample(rng_key)\n",
    "    \n",
    "    # y_prec\n",
    "    \n",
    "    z1 = jnp.matmul(_X_train, w_ih) + b_h\n",
    "    a1 = jnp.tanh(z1)\n",
    "    output = jnp.matmul(a1, w_ho) + hmc_sites['b_o']\n",
    "    \n",
    "    alpha_noise = (0.5 + 100)/2\n",
    "    beta_noise = 0.5*(0.5*(0.05**2) + jnp.sum(jnp.square(output - _Y_train)))\n",
    "    new_y_prec = dist.Gamma(alpha_noise, beta_noise).sample(rng_key)\n",
    "    \n",
    "    return {'w_ih_prec': new_w_ih_prec, \n",
    "            'b_h_prec': new_b_h_prec, \n",
    "            'w_ho_prec': new_w_ho_prec,\n",
    "            'y_prec': new_y_prec}"
   ]
  },
  {
   "cell_type": "code",
   "execution_count": 9,
   "metadata": {},
   "outputs": [],
   "source": [
    "init_values = {\n",
    "    \n",
    "    \"w_ih_prec\": 1.,\n",
    "    \"b_h_prec\": 1.,\n",
    "    \"w_ho_prec\": 1.,\n",
    "    \"y_prec\": 1.,\n",
    "    \"w_ih\": jnp.zeros((1, 8)),\n",
    "    \"b_h\": jnp.zeros((1, 8)),\n",
    "    \"w_ho\": jnp.zeros((8, 1)),\n",
    "    \"b_o\": jnp.zeros((1, 1))\n",
    "    \n",
    "}"
   ]
  },
  {
   "cell_type": "code",
   "execution_count": 10,
   "metadata": {},
   "outputs": [
    {
     "data": {
      "application/vnd.jupyter.widget-view+json": {
       "model_id": "2f20f3da77f14cd19a1d996d5a8be3e5",
       "version_major": 2,
       "version_minor": 0
      },
      "text/plain": [
       "HBox(children=(IntProgress(value=0, max=51000), HTML(value='')))"
      ]
     },
     "metadata": {},
     "output_type": "display_data"
    },
    {
     "data": {
      "application/vnd.jupyter.widget-view+json": {
       "model_id": "c70d049dbb914a308719ecff263af882",
       "version_major": 2,
       "version_minor": 0
      },
      "text/plain": [
       "HBox(children=(IntProgress(value=0, max=51000), HTML(value='')))"
      ]
     },
     "metadata": {},
     "output_type": "display_data"
    },
    {
     "data": {
      "application/vnd.jupyter.widget-view+json": {
       "model_id": "e27bc862c63c4d1d896d76a99fc2271f",
       "version_major": 2,
       "version_minor": 0
      },
      "text/plain": [
       "HBox(children=(IntProgress(value=0, max=51000), HTML(value='')))"
      ]
     },
     "metadata": {},
     "output_type": "display_data"
    },
    {
     "data": {
      "application/vnd.jupyter.widget-view+json": {
       "model_id": "1669254a3ea34c7dbc9fae3f67fce13c",
       "version_major": 2,
       "version_minor": 0
      },
      "text/plain": [
       "HBox(children=(IntProgress(value=0, max=51000), HTML(value='')))"
      ]
     },
     "metadata": {},
     "output_type": "display_data"
    },
    {
     "name": "stdout",
     "output_type": "stream",
     "text": [
      "\n",
      "\n",
      "\n",
      "\n",
      "\n",
      "                 mean       std    median      5.0%     95.0%     n_eff     r_hat\n",
      "   b_h[0,0]      0.04      5.23      0.01     -7.99      7.31   3862.88      1.00\n",
      "   b_h[0,1]     -0.03      5.48     -0.06     -7.81      7.87   3110.82      1.00\n",
      "   b_h[0,2]      0.09      5.10      0.11     -7.59      7.72   4310.12      1.00\n",
      "   b_h[0,3]     -0.14      5.23     -0.19     -7.76      7.45   4320.54      1.00\n",
      "   b_h[0,4]      0.06      5.35      0.02     -8.05      7.75   2979.65      1.00\n",
      "   b_h[0,5]     -0.16      5.34     -0.04     -8.02      7.62   3329.04      1.00\n",
      "   b_h[0,6]     -0.07      5.26     -0.03     -7.84      7.58   3864.02      1.00\n",
      "   b_h[0,7]     -0.10      5.21     -0.04     -7.79      7.46   5800.69      1.00\n",
      "   b_h_prec      0.09      0.09      0.06      0.00      0.20   4623.22      1.01\n",
      "   b_o[0,0]      0.78      2.20      0.75     -2.56      3.28    868.50      1.01\n",
      "  w_ho[0,0]      0.01      1.37     -0.03     -1.71      1.54    680.53      1.00\n",
      "  w_ho[1,0]     -0.06      1.30     -0.05     -1.74      1.50    775.38      1.00\n",
      "  w_ho[2,0]     -0.02      1.26     -0.01     -1.38      1.91    617.85      1.01\n",
      "  w_ho[3,0]     -0.03      1.21      0.01     -1.62      1.57   2238.70      1.00\n",
      "  w_ho[4,0]     -0.04      1.18     -0.03     -1.63      1.61   2088.91      1.00\n",
      "  w_ho[5,0]     -0.02      1.20     -0.01     -1.67      1.58   2481.64      1.00\n",
      "  w_ho[6,0]      0.09      1.67      0.03     -1.47      1.74    512.23      1.01\n",
      "  w_ho[7,0]     -0.05      1.13     -0.03     -1.66      1.59   2756.63      1.00\n",
      "  w_ho_prec      1.97      2.01      1.37      0.00      4.35   5971.42      1.00\n",
      "  w_ih[0,0]      0.01      2.55      0.01     -3.75      3.66   6855.28      1.00\n",
      "  w_ih[0,1]      0.02      2.59      0.06     -3.75      3.76   5420.96      1.00\n",
      "  w_ih[0,2]     -0.01      2.54     -0.01     -3.73      3.66   5302.21      1.00\n",
      "  w_ih[0,3]     -0.02      2.51     -0.06     -3.68      3.63   6810.32      1.00\n",
      "  w_ih[0,4]      0.02      2.57      0.06     -3.62      3.74   6014.81      1.00\n",
      "  w_ih[0,5]     -0.01      2.63     -0.07     -3.72      3.70   4742.66      1.00\n",
      "  w_ih[0,6]     -0.02      2.54      0.02     -3.92      3.56   5517.82      1.00\n",
      "  w_ih[0,7]     -0.01      2.55     -0.02     -3.74      3.72   6227.02      1.00\n",
      "  w_ih_prec      0.25      0.21      0.20      0.01      0.52   2995.38      1.01\n",
      "     y_prec    128.67     19.99    127.69     95.66    160.99  79747.19      1.00\n",
      "\n"
     ]
    }
   ],
   "source": [
    "# Set random key \n",
    "\n",
    "rng_key = random.PRNGKey(42)\n",
    "rng_key, rng_key_predict = random.split(rng_key)\n",
    "\n",
    "# Initialize NUTS for low-level parameters\n",
    "\n",
    "nuts_kernel = NUTS(model, adapt_mass_matrix=True, \n",
    "                  init_strategy = init_to_value(values=init_values))\n",
    "\n",
    "# Wrap NUTS inside the Gibbs update for hyperparameters\n",
    "\n",
    "kernel = HMCGibbs(nuts_kernel, \n",
    "                  gibbs_fn=gibbs_fn, \n",
    "                  gibbs_sites=['w_ih_prec', 'b_h_prec', 'w_ho_prec', 'y_prec'])\n",
    "\n",
    "# Instantiate MCMC\n",
    "\n",
    "mcmc = MCMC(kernel,\n",
    "            num_samples=ITER,\n",
    "            num_warmup=1000,\n",
    "            num_chains=4,\n",
    "            progress_bar=False if \"NUMPYRO_SPHINXBUILD\" in os.environ else True)\n",
    "\n",
    "mcmc.run(rng_key,\n",
    "         jnp.array(X_train.reshape((len(Y_train), 1))), \n",
    "         jnp.array(Y_train.reshape((len(Y_train), 1))))\n",
    "\n",
    "mcmc.print_summary()\n",
    "\n",
    "# Get dict of samples\n",
    "\n",
    "samples = mcmc.get_samples()"
   ]
  },
  {
   "cell_type": "code",
   "execution_count": 11,
   "metadata": {},
   "outputs": [
    {
     "data": {
      "text/plain": [
       "[<matplotlib.lines.Line2D at 0x7f5a0451f128>]"
      ]
     },
     "execution_count": 11,
     "metadata": {},
     "output_type": "execute_result"
    },
    {
     "data": {
      "image/png": "[encoded data removed]",
      "text/plain": [
       "<Figure size 1080x720 with 1 Axes>"
      ]
     },
     "metadata": {
      "needs_background": "light"
     },
     "output_type": "display_data"
    }
   ],
   "source": [
    "plt.figure(figsize = (15,10))\n",
    "plt.plot(1/jnp.sqrt(samples[\"w_ho_prec\"]), \"ko\", markersize=2)"
   ]
  },
  {
   "cell_type": "code",
   "execution_count": 12,
   "metadata": {},
   "outputs": [],
   "source": [
    "# TODO: can we make this more like tf_probability? The vmap function speeds it up.\n",
    "\n",
    "def predict(model, rng_key, samples, X):\n",
    "    \n",
    "    model = handlers.substitute(handlers.seed(model, rng_key), samples)\n",
    "    \n",
    "    # note that Y will be sampled in the model because we pass Y=None here\n",
    "    \n",
    "    model_trace = handlers.trace(model).get_trace(x=X, y=None)\n",
    "    \n",
    "    return model_trace['y_pred']['value']"
   ]
  },
  {
   "cell_type": "code",
   "execution_count": 13,
   "metadata": {},
   "outputs": [],
   "source": [
    "# Train and Test Predictions\n",
    "\n",
    "# vmap_args = (samples, random.split(rng_key_predict, ITER * CHAINS))\n",
    "# train_predictions = vmap(lambda samples, rng_key: predict(model, rng_key, samples, X_train))(*vmap_args)\n",
    "# test_predictions = vmap(lambda samples, rng_key: predict(model, rng_key, samples, X_test))(*vmap_args)\n",
    "# y_train_pred = train_predictions[..., 0]\n",
    "# y_test_pred = test_predictions[..., 0]\n",
    "\n",
    "# df_predictions_train = pd.DataFrame({\n",
    "    \n",
    "#     \"inputs\": X_train.flatten(),\n",
    "#     \"targets\": Y_train.flatten(),\n",
    "#     \"mean\": y_train_pred[100:, :].mean(axis=0),\n",
    "#     \"median\": np.quantile(y_train_pred, 0.5, axis=0),\n",
    "#     \"q1\": np.quantile(y_train_pred, 0.01, axis=0),\n",
    "#     \"q10\": np.quantile(y_train_pred, 0.10, axis=0),\n",
    "#     \"q90\": np.quantile(y_train_pred, 0.90, axis=0),\n",
    "#     \"q99\": np.quantile(y_train_pred, 0.99, axis=0),\n",
    "#     \"label\": \"train\"\n",
    "\n",
    "# })\n",
    "\n",
    "# df_predictions_test = pd.DataFrame({\n",
    "    \n",
    "#     \"inputs\": X_test.flatten(),\n",
    "#     \"targets\": Y_test.flatten(),\n",
    "#     \"mean\": y_test_pred.mean(axis=0),\n",
    "#     \"median\": np.quantile(y_test_pred, 0.5, axis=0),\n",
    "#     \"q1\": np.quantile(y_test_pred, 0.01, axis=0),\n",
    "#     \"q10\": np.quantile(y_test_pred, 0.10, axis=0),\n",
    "#     \"q90\": np.quantile(y_test_pred, 0.90, axis=0),\n",
    "#     \"q99\": np.quantile(y_test_pred, 0.99, axis=0),\n",
    "#     \"label\": \"test\"\n",
    "\n",
    "# })\n",
    "\n",
    "# df = df_predictions_train.copy(deep=True)\n",
    "# df = df.sort_values(\"inputs\").reset_index()\n",
    "\n",
    "# fig = go.Figure([\n",
    "#     go.Scatter(\n",
    "#         name='median',\n",
    "#         x=df['inputs'],\n",
    "#         y=df['median'],\n",
    "#         mode='lines',\n",
    "#         line=dict(color='rgb(31, 119, 180)'),\n",
    "#     ),\n",
    "#     go.Scatter(\n",
    "#         name='Upper Bound',\n",
    "#         x=df['inputs'],\n",
    "#         y=df['q1'],\n",
    "#         mode='lines',\n",
    "#         marker=dict(color=\"#444\"),\n",
    "#         line=dict(width=0),\n",
    "#         showlegend=False\n",
    "#     ),\n",
    "#     go.Scatter(\n",
    "#         name='Lower Bound',\n",
    "#         x=df['inputs'],\n",
    "#         y=df['q99'],\n",
    "#         marker=dict(color=\"#444\"),\n",
    "#         line=dict(width=0),\n",
    "#         mode='lines',\n",
    "#         fillcolor='rgba(68, 68, 68, 0.3)',\n",
    "#         fill='tonexty',\n",
    "#         showlegend=False\n",
    "#     )\n",
    "# ])\n",
    "\n",
    "# fig.add_scatter(x=df['inputs'], y=df['targets'], mode=\"markers\")\n",
    "\n",
    "# fig.update_layout(\n",
    "#     yaxis_title='Y',\n",
    "#     title='Training Set',\n",
    "#     hovermode=\"x\"\n",
    "# )\n",
    "# fig.show()"
   ]
  },
  {
   "cell_type": "code",
   "execution_count": 14,
   "metadata": {},
   "outputs": [],
   "source": [
    "# df = df_predictions_test.copy(deep=True)\n",
    "# df = df.sort_values(\"inputs\").reset_index()\n",
    "\n",
    "# fig = go.Figure([\n",
    "#     go.Scatter(\n",
    "#         name='median',\n",
    "#         x=df['inputs'],\n",
    "#         y=df['median'],\n",
    "#         mode='lines',\n",
    "#         line=dict(color='rgb(31, 119, 180)'),\n",
    "#     ),\n",
    "#     go.Scatter(\n",
    "#         name='Upper Bound',\n",
    "#         x=df['inputs'],\n",
    "#         y=df['q1'],\n",
    "#         mode='lines',\n",
    "#         marker=dict(color=\"#444\"),\n",
    "#         line=dict(width=0),\n",
    "#         showlegend=False\n",
    "#     ),\n",
    "#     go.Scatter(\n",
    "#         name='Lower Bound',\n",
    "#         x=df['inputs'],\n",
    "#         y=df['q99'],\n",
    "#         marker=dict(color=\"#444\"),\n",
    "#         line=dict(width=0),\n",
    "#         mode='lines',\n",
    "#         fillcolor='rgba(68, 68, 68, 0.3)',\n",
    "#         fill='tonexty',\n",
    "#         showlegend=False\n",
    "#     )\n",
    "# ])\n",
    "\n",
    "# fig.add_scatter(x=df['inputs'], y=df['targets'], mode=\"markers\")\n",
    "\n",
    "# fig.update_layout(\n",
    "#     yaxis_title='Y',\n",
    "#     title='Training Set',\n",
    "#     hovermode=\"x\"\n",
    "# )\n",
    "# fig.show()"
   ]
  },
  {
   "cell_type": "code",
   "execution_count": 15,
   "metadata": {},
   "outputs": [],
   "source": [
    "# Low-level parameters\n",
    "\n",
    "df_wih = pd.DataFrame(samples['w_ih'].reshape(ITER*CHAINS, 8))\n",
    "df_bh = pd.DataFrame(samples['b_h'].reshape(ITER*CHAINS, 8))\n",
    "df_who = pd.DataFrame(samples['w_ho'].reshape(ITER*CHAINS, 8))\n",
    "df_bo = pd.DataFrame(samples['b_o'].reshape(ITER*CHAINS, 1))\n",
    "\n",
    "df_wih.columns = [\"w_ih_\" + str(i) for i in range(0,8)]\n",
    "df_bh.columns = [\"b_h_\" + str(i) for i in range(0, 8)]\n",
    "df_who.columns = [\"w_ho_\" + str(i) for i in range(0, 8)]\n",
    "df_bo.columns = [\"b_o_\" + str(i) for i in range(1, 2)]\n",
    "\n",
    "df_traces = pd.concat([df_wih, df_bh, df_who, df_bo], ignore_index=False, axis=1)\n",
    "\n",
    "# High level parameters\n",
    "\n",
    "df_traces[\"W_prec_ih\"] = samples['w_ih_prec'].reshape(ITER*CHAINS,)\n",
    "df_traces[\"B_prec_h\"] = samples['b_h_prec'].reshape(ITER*CHAINS,)\n",
    "df_traces[\"W_prec_ho\"] = samples['w_ho_prec'].reshape(ITER*CHAINS,)\n",
    "df_traces[\"y_prec\"] = samples['y_prec'].reshape(ITER*CHAINS,)\n",
    "df_traces[\"trace\"] = 1\n",
    "\n",
    "df_traces[\"id\"] = df_traces.index\n",
    "\n",
    "df_traces[\"trace\"] = np.where(np.logical_and(df_traces[\"id\"] >= 0, df_traces[\"id\"] < ITER), 1, \n",
    "                                  np.where(np.logical_and(df_traces[\"id\"] >= ITER, df_traces[\"id\"] < 2*ITER), 2, \n",
    "                                      np.where(np.logical_and(df_traces[\"id\"] >= 2*ITER, df_traces[\"id\"] < 3*ITER), 3, \n",
    "                                              np.where(np.logical_and(df_traces[\"id\"] >= 3*ITER, df_traces[\"id\"] < 4*ITER), 4, 0))))"
   ]
  },
  {
   "cell_type": "code",
   "execution_count": 16,
   "metadata": {},
   "outputs": [],
   "source": [
    "# Write results to disk\n",
    "\n",
    "df_traces.to_feather(f\"{new_dir}/df_traces.feather\")\n",
    "\n",
    "# Write predictions to disk\n",
    "\n",
    "# df_predictions = pd.concat([df_predictions_train, df_predictions_test]).reset_index()\n",
    "# df_predictions.drop(f\"index\", axis=1).to_feather(f\"{new_dir}/df_predictions.feather\")"
   ]
  },
  {
   "cell_type": "code",
   "execution_count": 17,
   "metadata": {},
   "outputs": [
    {
     "name": "stdout",
     "output_type": "stream",
     "text": [
      "../../output/1d_reg/numpyro_c_2021_05_28_12_47_20\n"
     ]
    }
   ],
   "source": [
    "print(new_dir)"
   ]
  }
 ],
 "metadata": {
  "kernelspec": {
   "display_name": "Python 3",
   "language": "python",
   "name": "python3"
  },
  "language_info": {
   "codemirror_mode": {
    "name": "ipython",
    "version": 3
   },
   "file_extension": ".py",
   "mimetype": "text/x-python",
   "name": "python",
   "nbconvert_exporter": "python",
   "pygments_lexer": "ipython3",
   "version": "3.6.7"
  },
  "latex_envs": {
   "LaTeX_envs_menu_present": true,
   "autoclose": false,
   "autocomplete": true,
   "bibliofile": "biblio.bib",
   "cite_by": "apalike",
   "current_citInitial": 1,
   "eqLabelWithNumbers": true,
   "eqNumInitial": 1,
   "hotkeys": {
    "equation": "Ctrl-E",
    "itemize": "Ctrl-I"
   },
   "labels_anchors": false,
   "latex_user_defs": false,
   "report_style_numbering": false,
   "user_envs_cfg": false
  },
  "toc": {
   "base_numbering": 1,
   "nav_menu": {},
   "number_sections": true,
   "sideBar": true,
   "skip_h1_title": false,
   "title_cell": "Table of Contents",
   "title_sidebar": "Contents",
   "toc_cell": false,
   "toc_position": {},
   "toc_section_display": true,
   "toc_window_display": false
  }
 },
 "nbformat": 4,
 "nbformat_minor": 4
}
