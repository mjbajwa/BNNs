{
 "cells": [
  {
   "cell_type": "code",
   "execution_count": 3,
   "metadata": {},
   "outputs": [],
   "source": [
    "import pyro.distributions as dist\n",
    "import torch\n",
    "import matplotlib.pyplot as plt\n",
    "import numpy as np"
   ]
  },
  {
   "cell_type": "code",
   "execution_count": 10,
   "metadata": {},
   "outputs": [],
   "source": [
    "t = dist.Gamma(0.25, 7.8125e-05) # 1.525879e-07\n",
    "samples = np.array(t.sample([10000, ]))"
   ]
  },
  {
   "cell_type": "code",
   "execution_count": 11,
   "metadata": {},
   "outputs": [
    {
     "data": {
      "text/plain": [
       "(array([4.681e+03, 3.575e+03, 1.167e+03, 3.690e+02, 1.360e+02, 5.000e+01,\n",
       "        1.600e+01, 3.000e+00, 1.000e+00, 2.000e+00]),\n",
       " array([-2.4099243 , -1.4312185 , -0.45251283,  0.5261929 ,  1.5048985 ,\n",
       "         2.4836044 ,  3.46231   ,  4.4410157 ,  5.4197216 ,  6.398427  ,\n",
       "         7.377133  ], dtype=float32),\n",
       " <a list of 10 Patch objects>)"
      ]
     },
     "execution_count": 11,
     "metadata": {},
     "output_type": "execute_result"
    },
    {
     "data": {
      "image/png": "[encoded data removed]",
      "text/plain": [
       "<Figure size 432x288 with 1 Axes>"
      ]
     },
     "metadata": {
      "needs_background": "light"
     },
     "output_type": "display_data"
    }
   ],
   "source": [
    "plt.hist(np.log10(1/np.sqrt(samples)))"
   ]
  },
  {
   "cell_type": "code",
   "execution_count": 12,
   "metadata": {},
   "outputs": [],
   "source": [
    "t = dist.Gamma(0.25, 0.000625) # 1.525879e-07\n",
    "samples = np.array(t.sample([10000, ]))"
   ]
  },
  {
   "cell_type": "code",
   "execution_count": 13,
   "metadata": {},
   "outputs": [
    {
     "data": {
      "text/plain": [
       "(array([2.947e+03, 4.015e+03, 1.795e+03, 7.500e+02, 3.090e+02, 1.190e+02,\n",
       "        3.500e+01, 2.100e+01, 4.000e+00, 5.000e+00]),\n",
       " array([-2.0294151 , -1.2535825 , -0.47774974,  0.29808298,  1.0739157 ,\n",
       "         1.8497484 ,  2.625581  ,  3.4014137 ,  4.1772466 ,  4.953079  ,\n",
       "         5.728912  ], dtype=float32),\n",
       " <a list of 10 Patch objects>)"
      ]
     },
     "execution_count": 13,
     "metadata": {},
     "output_type": "execute_result"
    },
    {
     "data": {
      "image/png": "[encoded data removed]",
      "text/plain": [
       "<Figure size 432x288 with 1 Axes>"
      ]
     },
     "metadata": {
      "needs_background": "light"
     },
     "output_type": "display_data"
    }
   ],
   "source": [
    "plt.hist(np.log10(1/np.sqrt(samples)))"
   ]
  }
 ],
 "metadata": {
  "kernelspec": {
   "display_name": "Python 3",
   "language": "python",
   "name": "python3"
  },
  "language_info": {
   "codemirror_mode": {
    "name": "ipython",
    "version": 3
   },
   "file_extension": ".py",
   "mimetype": "text/x-python",
   "name": "python",
   "nbconvert_exporter": "python",
   "pygments_lexer": "ipython3",
   "version": "3.6.7"
  }
 },
 "nbformat": 4,
 "nbformat_minor": 2
}
